{
  "cells":[
    {
      "cell_type":"markdown",
      "source":[
        "**Корректность проверена на Python 3.6:**\n",
        "+ pandas 0.23.4\n",
        "+ numpy 1.15.4\n",
        "+ matplotlib 3.0.2\n",
        "+ sklearn 0.20.2"
      ],
      "attachments":{
        
      },
      "metadata":{
        
      }
    },
    {
      "cell_type":"code",
      "source":[
        "import warnings\n",
        "warnings.filterwarnings('ignore')"
      ],
      "execution_count":1,
      "outputs":[
        
      ],
      "metadata":{
        
      }
    },
    {
      "cell_type":"markdown",
      "source":[
        "## Предобработка данных и логистическая регрессия для задачи бинарной классификации"
      ],
      "attachments":{
        
      },
      "metadata":{
        
      }
    },
    {
      "cell_type":"markdown",
      "source":[
        "## Programming assignment"
      ],
      "attachments":{
        
      },
      "metadata":{
        
      }
    },
    {
      "cell_type":"markdown",
      "source":[
        "В задании вам будет предложено ознакомиться с основными техниками предобработки данных, а так же применить их для обучения модели логистической регрессии. Ответ потребуется загрузить в соответствующую форму в виде 6 текстовых файлов."
      ],
      "attachments":{
        
      },
      "metadata":{
        
      }
    },
    {
      "cell_type":"code",
      "source":[
        "import pandas as pd\n",
        "import numpy as np\n",
        "import matplotlib\n",
        "from matplotlib import pyplot as plt\n",
        "matplotlib.style.use('ggplot')\n",
        "%matplotlib inline\n",
        "\n",
        "import warnings\n",
        "warnings.filterwarnings('ignore')"
      ],
      "execution_count":2,
      "outputs":[
        
      ],
      "metadata":{
        
      }
    },
    {
      "cell_type":"markdown",
      "source":[
        "## Описание датасета"
      ],
      "attachments":{
        
      },
      "metadata":{
        
      }
    },
    {
      "cell_type":"markdown",
      "source":[
        "Задача: по 38 признакам, связанных с заявкой на грант (область исследований учёных, информация по их академическому бэкграунду, размер гранта, область, в которой он выдаётся) предсказать, будет ли заявка принята. Датасет включает в себя информацию по 6000 заявкам на гранты, которые были поданы в университете Мельбурна в период с 2004 по 2008 год.\n",
        "\n",
        "Полную версию данных с большим количеством признаков можно найти на https:\/\/www.kaggle.com\/c\/unimelb."
      ],
      "attachments":{
        
      },
      "metadata":{
        
      }
    },
    {
      "cell_type":"code",
      "source":[
        "data = pd.read_csv('\/data\/workspace_files\/data_c2w3ex1.csv')\n",
        "data.shape"
      ],
      "execution_count":3,
      "outputs":[
        {
          "data":{
            "text\/plain":[
              "(6000, 39)"
            ]
          },
          "metadata":{
            
          },
          "output_type":"display_data"
        }
      ],
      "metadata":{
        
      }
    },
    {
      "cell_type":"code",
      "source":[
        "data.head()"
      ],
      "execution_count":4,
      "outputs":[
        {
          "data":{
            "text\/html":[
              "<div>\n",
              "<style scoped>\n",
              "    .dataframe tbody tr th:only-of-type {\n",
              "        vertical-align: middle;\n",
              "    }\n",
              "\n",
              "    .dataframe tbody tr th {\n",
              "        vertical-align: top;\n",
              "    }\n",
              "\n",
              "    .dataframe thead th {\n",
              "        text-align: right;\n",
              "    }\n",
              "<\/style>\n",
              "<table border=\"1\" class=\"dataframe\">\n",
              "  <thead>\n",
              "    <tr style=\"text-align: right;\">\n",
              "      <th><\/th>\n",
              "      <th>Grant.Status<\/th>\n",
              "      <th>Sponsor.Code<\/th>\n",
              "      <th>Grant.Category.Code<\/th>\n",
              "      <th>Contract.Value.Band...see.note.A<\/th>\n",
              "      <th>RFCD.Code.1<\/th>\n",
              "      <th>RFCD.Percentage.1<\/th>\n",
              "      <th>RFCD.Code.2<\/th>\n",
              "      <th>RFCD.Percentage.2<\/th>\n",
              "      <th>RFCD.Code.3<\/th>\n",
              "      <th>RFCD.Percentage.3<\/th>\n",
              "      <th>...<\/th>\n",
              "      <th>Dept.No..1<\/th>\n",
              "      <th>Faculty.No..1<\/th>\n",
              "      <th>With.PHD.1<\/th>\n",
              "      <th>No..of.Years.in.Uni.at.Time.of.Grant.1<\/th>\n",
              "      <th>Number.of.Successful.Grant.1<\/th>\n",
              "      <th>Number.of.Unsuccessful.Grant.1<\/th>\n",
              "      <th>A..1<\/th>\n",
              "      <th>A.1<\/th>\n",
              "      <th>B.1<\/th>\n",
              "      <th>C.1<\/th>\n",
              "    <\/tr>\n",
              "  <\/thead>\n",
              "  <tbody>\n",
              "    <tr>\n",
              "      <th>0<\/th>\n",
              "      <td>1<\/td>\n",
              "      <td>21A<\/td>\n",
              "      <td>50A<\/td>\n",
              "      <td>A<\/td>\n",
              "      <td>230202.0<\/td>\n",
              "      <td>50.0<\/td>\n",
              "      <td>230203.0<\/td>\n",
              "      <td>30.0<\/td>\n",
              "      <td>230204.0<\/td>\n",
              "      <td>20.0<\/td>\n",
              "      <td>...<\/td>\n",
              "      <td>3098.0<\/td>\n",
              "      <td>31.0<\/td>\n",
              "      <td>Yes<\/td>\n",
              "      <td>&gt;=0 to 5<\/td>\n",
              "      <td>2.0<\/td>\n",
              "      <td>0.0<\/td>\n",
              "      <td>0.0<\/td>\n",
              "      <td>4.0<\/td>\n",
              "      <td>2.0<\/td>\n",
              "      <td>0.0<\/td>\n",
              "    <\/tr>\n",
              "    <tr>\n",
              "      <th>1<\/th>\n",
              "      <td>1<\/td>\n",
              "      <td>4D<\/td>\n",
              "      <td>10A<\/td>\n",
              "      <td>D<\/td>\n",
              "      <td>320801.0<\/td>\n",
              "      <td>100.0<\/td>\n",
              "      <td>0.0<\/td>\n",
              "      <td>0.0<\/td>\n",
              "      <td>0.0<\/td>\n",
              "      <td>0.0<\/td>\n",
              "      <td>...<\/td>\n",
              "      <td>2553.0<\/td>\n",
              "      <td>25.0<\/td>\n",
              "      <td>Yes<\/td>\n",
              "      <td>&gt;=0 to 5<\/td>\n",
              "      <td>3.0<\/td>\n",
              "      <td>1.0<\/td>\n",
              "      <td>0.0<\/td>\n",
              "      <td>2.0<\/td>\n",
              "      <td>0.0<\/td>\n",
              "      <td>0.0<\/td>\n",
              "    <\/tr>\n",
              "    <tr>\n",
              "      <th>2<\/th>\n",
              "      <td>0<\/td>\n",
              "      <td>NaN<\/td>\n",
              "      <td>NaN<\/td>\n",
              "      <td>NaN<\/td>\n",
              "      <td>320602.0<\/td>\n",
              "      <td>50.0<\/td>\n",
              "      <td>321004.0<\/td>\n",
              "      <td>30.0<\/td>\n",
              "      <td>321015.0<\/td>\n",
              "      <td>20.0<\/td>\n",
              "      <td>...<\/td>\n",
              "      <td>2813.0<\/td>\n",
              "      <td>25.0<\/td>\n",
              "      <td>NaN<\/td>\n",
              "      <td>Less than 0<\/td>\n",
              "      <td>1.0<\/td>\n",
              "      <td>5.0<\/td>\n",
              "      <td>0.0<\/td>\n",
              "      <td>7.0<\/td>\n",
              "      <td>2.0<\/td>\n",
              "      <td>0.0<\/td>\n",
              "    <\/tr>\n",
              "    <tr>\n",
              "      <th>3<\/th>\n",
              "      <td>0<\/td>\n",
              "      <td>51C<\/td>\n",
              "      <td>20C<\/td>\n",
              "      <td>A<\/td>\n",
              "      <td>291503.0<\/td>\n",
              "      <td>60.0<\/td>\n",
              "      <td>321402.0<\/td>\n",
              "      <td>40.0<\/td>\n",
              "      <td>0.0<\/td>\n",
              "      <td>0.0<\/td>\n",
              "      <td>...<\/td>\n",
              "      <td>2553.0<\/td>\n",
              "      <td>25.0<\/td>\n",
              "      <td>NaN<\/td>\n",
              "      <td>more than 15<\/td>\n",
              "      <td>2.0<\/td>\n",
              "      <td>1.0<\/td>\n",
              "      <td>5.0<\/td>\n",
              "      <td>6.0<\/td>\n",
              "      <td>9.0<\/td>\n",
              "      <td>1.0<\/td>\n",
              "    <\/tr>\n",
              "    <tr>\n",
              "      <th>4<\/th>\n",
              "      <td>0<\/td>\n",
              "      <td>24D<\/td>\n",
              "      <td>30B<\/td>\n",
              "      <td>NaN<\/td>\n",
              "      <td>380107.0<\/td>\n",
              "      <td>100.0<\/td>\n",
              "      <td>0.0<\/td>\n",
              "      <td>0.0<\/td>\n",
              "      <td>0.0<\/td>\n",
              "      <td>0.0<\/td>\n",
              "      <td>...<\/td>\n",
              "      <td>2923.0<\/td>\n",
              "      <td>25.0<\/td>\n",
              "      <td>NaN<\/td>\n",
              "      <td>Less than 0<\/td>\n",
              "      <td>0.0<\/td>\n",
              "      <td>2.0<\/td>\n",
              "      <td>0.0<\/td>\n",
              "      <td>0.0<\/td>\n",
              "      <td>0.0<\/td>\n",
              "      <td>0.0<\/td>\n",
              "    <\/tr>\n",
              "  <\/tbody>\n",
              "<\/table>\n",
              "<p>5 rows × 39 columns<\/p>\n",
              "<\/div>"
            ]
          },
          "metadata":{
            
          },
          "output_type":"display_data"
        }
      ],
      "metadata":{
        
      }
    },
    {
      "cell_type":"code",
      "source":[
        "data.info()"
      ],
      "execution_count":5,
      "outputs":[
        {
          "name":"stdout",
          "text":[
            "<class 'pandas.core.frame.DataFrame'>\n",
            "RangeIndex: 6000 entries, 0 to 5999\n",
            "Data columns (total 39 columns):\n",
            " #   Column                                  Non-Null Count  Dtype  \n",
            "---  ------                                  --------------  -----  \n",
            " 0   Grant.Status                            6000 non-null   int64  \n",
            " 1   Sponsor.Code                            5387 non-null   object \n",
            " 2   Grant.Category.Code                     5387 non-null   object \n",
            " 3   Contract.Value.Band...see.note.A        3539 non-null   object \n",
            " 4   RFCD.Code.1                             5583 non-null   float64\n",
            " 5   RFCD.Percentage.1                       5583 non-null   float64\n",
            " 6   RFCD.Code.2                             5583 non-null   float64\n",
            " 7   RFCD.Percentage.2                       5583 non-null   float64\n",
            " 8   RFCD.Code.3                             5583 non-null   float64\n",
            " 9   RFCD.Percentage.3                       5583 non-null   float64\n",
            " 10  RFCD.Code.4                             5583 non-null   float64\n",
            " 11  RFCD.Percentage.4                       5583 non-null   float64\n",
            " 12  RFCD.Code.5                             5583 non-null   float64\n",
            " 13  RFCD.Percentage.5                       5583 non-null   float64\n",
            " 14  SEO.Code.1                              5561 non-null   float64\n",
            " 15  SEO.Percentage.1                        5561 non-null   float64\n",
            " 16  SEO.Code.2                              5561 non-null   float64\n",
            " 17  SEO.Percentage.2                        5561 non-null   float64\n",
            " 18  SEO.Code.3                              5561 non-null   float64\n",
            " 19  SEO.Percentage.3                        5561 non-null   float64\n",
            " 20  SEO.Code.4                              5561 non-null   float64\n",
            " 21  SEO.Percentage.4                        5561 non-null   float64\n",
            " 22  SEO.Code.5                              5561 non-null   float64\n",
            " 23  SEO.Percentage.5                        5561 non-null   float64\n",
            " 24  Person.ID.1                             5634 non-null   float64\n",
            " 25  Role.1                                  5930 non-null   object \n",
            " 26  Year.of.Birth.1                         5633 non-null   float64\n",
            " 27  Country.of.Birth.1                      5096 non-null   object \n",
            " 28  Home.Language.1                         556 non-null    object \n",
            " 29  Dept.No..1                              5392 non-null   float64\n",
            " 30  Faculty.No..1                           5389 non-null   float64\n",
            " 31  With.PHD.1                              3504 non-null   object \n",
            " 32  No..of.Years.in.Uni.at.Time.of.Grant.1  4950 non-null   object \n",
            " 33  Number.of.Successful.Grant.1            5634 non-null   float64\n",
            " 34  Number.of.Unsuccessful.Grant.1          5634 non-null   float64\n",
            " 35  A..1                                    5634 non-null   float64\n",
            " 36  A.1                                     5634 non-null   float64\n",
            " 37  B.1                                     5634 non-null   float64\n",
            " 38  C.1                                     5634 non-null   float64\n",
            "dtypes: float64(30), int64(1), object(8)\n",
            "memory usage: 1.8+ MB\n"
          ],
          "output_type":"stream"
        }
      ],
      "metadata":{
        
      }
    },
    {
      "cell_type":"markdown",
      "source":[
        "Выделим из датасета целевую переменную Grant.Status и обозначим её за y\n",
        "Теперь X обозначает обучающую выборку, y - ответы на ней"
      ],
      "attachments":{
        
      },
      "metadata":{
        
      }
    },
    {
      "cell_type":"code",
      "source":[
        "#vibo: выделяем признаки Х\n",
        "X = data.drop('Grant.Status', 1)\n",
        "#vibo: выделяем целевую переменную у\n",
        "y = data['Grant.Status']"
      ],
      "execution_count":6,
      "outputs":[
        
      ],
      "metadata":{
        
      }
    },
    {
      "cell_type":"markdown",
      "source":[
        "## Теория по логистической регрессии"
      ],
      "attachments":{
        
      },
      "metadata":{
        
      }
    },
    {
      "cell_type":"code",
      "source":[
        "#vibo: решаем задачу предсказания выдачи гранта с помощью логистической регрессии. "
      ],
      "execution_count":7,
      "outputs":[
        
      ],
      "metadata":{
        
      }
    },
    {
      "cell_type":"markdown",
      "source":[
        "После осознания того, какую именно задачу требуется решить на этих данных, следующим шагом при реальном анализе был бы подбор подходящего метода. В данном задании выбор метода было произведён за вас, это логистическая регрессия. Кратко напомним вам используемую модель.\n",
        "\n",
        "Логистическая регрессия предсказывает вероятности принадлежности объекта к каждому классу. Сумма ответов логистической регрессии на одном объекте для всех классов равна единице.\n",
        "\n",
        "$$ \\sum_{k=1}^K \\pi_{ik} = 1, \\quad \\pi_k \\equiv P\\,(y_i = k \\mid x_i, \\theta), $$\n",
        "\n",
        "где:\n",
        "- $\\pi_{ik}$ - вероятность принадлежности объекта $x_i$ из выборки $X$ к классу $k$\n",
        "- $\\theta$ - внутренние параметры алгоритма, которые настраиваются в процессе обучения, в случае логистической регрессии - $w, b$\n",
        "\n",
        "Из этого свойства модели в случае бинарной классификации требуется вычислить лишь вероятность принадлежности объекта к одному из классов (вторая вычисляется из условия нормировки вероятностей). Эта вероятность вычисляется, используя логистическую функцию:\n",
        "\n",
        "$$ P\\,(y_i = 1 \\mid x_i, \\theta) = \\frac{1}{1 + \\exp(-w^T x_i-b)} $$\n",
        "\n",
        "Параметры $w$ и $b$ находятся, как решения следующей задачи оптимизации (указаны функционалы с L1 и L2 регуляризацией, с которыми вы познакомились в предыдущих заданиях):\n",
        "\n",
        "L2-regularization:\n",
        "\n",
        "$$ Q(X, y, \\theta) = \\frac{1}{2} w^T w + C \\sum_{i=1}^l \\log ( 1 + \\exp(-y_i (w^T x_i + b ) ) ) \\longrightarrow \\min\\limits_{w,b} $$\n",
        "\n",
        "L1-regularization:\n",
        "\n",
        "$$ Q(X, y, \\theta) = \\sum_{d=1}^D |w_d| + C \\sum_{i=1}^l \\log ( 1 + \\exp(-y_i (w^T x_i + b ) ) ) \\longrightarrow \\min\\limits_{w,b} $$\n",
        "\n",
        "$C$ - это стандартный гиперпараметр модели, который регулирует то, насколько сильно мы позволяем модели подстраиваться под данные."
      ],
      "attachments":{
        
      },
      "metadata":{
        
      }
    },
    {
      "cell_type":"markdown",
      "source":[
        "## Предобработка данных"
      ],
      "attachments":{
        
      },
      "metadata":{
        
      }
    },
    {
      "cell_type":"markdown",
      "source":[
        "Из свойств данной модели следует, что:\n",
        "- все $X$ должны быть числовыми данными (в случае наличия среди них категорий, их требуется некоторым способом преобразовать в вещественные числа)\n",
        "- среди $X$ не должно быть пропущенных значений (т.е. все пропущенные значения перед применением модели следует каким-то образом заполнить)\n",
        "\n",
        "Поэтому базовым этапом в предобработке любого датасета для логистической регрессии будет кодирование категориальных признаков, а так же удаление или интерпретация пропущенных значений (при наличии того или другого)."
      ],
      "attachments":{
        
      },
      "metadata":{
        
      }
    },
    {
      "cell_type":"code",
      "source":[
        "data.head()"
      ],
      "execution_count":8,
      "outputs":[
        {
          "data":{
            "text\/html":[
              "<div>\n",
              "<style scoped>\n",
              "    .dataframe tbody tr th:only-of-type {\n",
              "        vertical-align: middle;\n",
              "    }\n",
              "\n",
              "    .dataframe tbody tr th {\n",
              "        vertical-align: top;\n",
              "    }\n",
              "\n",
              "    .dataframe thead th {\n",
              "        text-align: right;\n",
              "    }\n",
              "<\/style>\n",
              "<table border=\"1\" class=\"dataframe\">\n",
              "  <thead>\n",
              "    <tr style=\"text-align: right;\">\n",
              "      <th><\/th>\n",
              "      <th>Grant.Status<\/th>\n",
              "      <th>Sponsor.Code<\/th>\n",
              "      <th>Grant.Category.Code<\/th>\n",
              "      <th>Contract.Value.Band...see.note.A<\/th>\n",
              "      <th>RFCD.Code.1<\/th>\n",
              "      <th>RFCD.Percentage.1<\/th>\n",
              "      <th>RFCD.Code.2<\/th>\n",
              "      <th>RFCD.Percentage.2<\/th>\n",
              "      <th>RFCD.Code.3<\/th>\n",
              "      <th>RFCD.Percentage.3<\/th>\n",
              "      <th>...<\/th>\n",
              "      <th>Dept.No..1<\/th>\n",
              "      <th>Faculty.No..1<\/th>\n",
              "      <th>With.PHD.1<\/th>\n",
              "      <th>No..of.Years.in.Uni.at.Time.of.Grant.1<\/th>\n",
              "      <th>Number.of.Successful.Grant.1<\/th>\n",
              "      <th>Number.of.Unsuccessful.Grant.1<\/th>\n",
              "      <th>A..1<\/th>\n",
              "      <th>A.1<\/th>\n",
              "      <th>B.1<\/th>\n",
              "      <th>C.1<\/th>\n",
              "    <\/tr>\n",
              "  <\/thead>\n",
              "  <tbody>\n",
              "    <tr>\n",
              "      <th>0<\/th>\n",
              "      <td>1<\/td>\n",
              "      <td>21A<\/td>\n",
              "      <td>50A<\/td>\n",
              "      <td>A<\/td>\n",
              "      <td>230202.0<\/td>\n",
              "      <td>50.0<\/td>\n",
              "      <td>230203.0<\/td>\n",
              "      <td>30.0<\/td>\n",
              "      <td>230204.0<\/td>\n",
              "      <td>20.0<\/td>\n",
              "      <td>...<\/td>\n",
              "      <td>3098.0<\/td>\n",
              "      <td>31.0<\/td>\n",
              "      <td>Yes<\/td>\n",
              "      <td>&gt;=0 to 5<\/td>\n",
              "      <td>2.0<\/td>\n",
              "      <td>0.0<\/td>\n",
              "      <td>0.0<\/td>\n",
              "      <td>4.0<\/td>\n",
              "      <td>2.0<\/td>\n",
              "      <td>0.0<\/td>\n",
              "    <\/tr>\n",
              "    <tr>\n",
              "      <th>1<\/th>\n",
              "      <td>1<\/td>\n",
              "      <td>4D<\/td>\n",
              "      <td>10A<\/td>\n",
              "      <td>D<\/td>\n",
              "      <td>320801.0<\/td>\n",
              "      <td>100.0<\/td>\n",
              "      <td>0.0<\/td>\n",
              "      <td>0.0<\/td>\n",
              "      <td>0.0<\/td>\n",
              "      <td>0.0<\/td>\n",
              "      <td>...<\/td>\n",
              "      <td>2553.0<\/td>\n",
              "      <td>25.0<\/td>\n",
              "      <td>Yes<\/td>\n",
              "      <td>&gt;=0 to 5<\/td>\n",
              "      <td>3.0<\/td>\n",
              "      <td>1.0<\/td>\n",
              "      <td>0.0<\/td>\n",
              "      <td>2.0<\/td>\n",
              "      <td>0.0<\/td>\n",
              "      <td>0.0<\/td>\n",
              "    <\/tr>\n",
              "    <tr>\n",
              "      <th>2<\/th>\n",
              "      <td>0<\/td>\n",
              "      <td>NaN<\/td>\n",
              "      <td>NaN<\/td>\n",
              "      <td>NaN<\/td>\n",
              "      <td>320602.0<\/td>\n",
              "      <td>50.0<\/td>\n",
              "      <td>321004.0<\/td>\n",
              "      <td>30.0<\/td>\n",
              "      <td>321015.0<\/td>\n",
              "      <td>20.0<\/td>\n",
              "      <td>...<\/td>\n",
              "      <td>2813.0<\/td>\n",
              "      <td>25.0<\/td>\n",
              "      <td>NaN<\/td>\n",
              "      <td>Less than 0<\/td>\n",
              "      <td>1.0<\/td>\n",
              "      <td>5.0<\/td>\n",
              "      <td>0.0<\/td>\n",
              "      <td>7.0<\/td>\n",
              "      <td>2.0<\/td>\n",
              "      <td>0.0<\/td>\n",
              "    <\/tr>\n",
              "    <tr>\n",
              "      <th>3<\/th>\n",
              "      <td>0<\/td>\n",
              "      <td>51C<\/td>\n",
              "      <td>20C<\/td>\n",
              "      <td>A<\/td>\n",
              "      <td>291503.0<\/td>\n",
              "      <td>60.0<\/td>\n",
              "      <td>321402.0<\/td>\n",
              "      <td>40.0<\/td>\n",
              "      <td>0.0<\/td>\n",
              "      <td>0.0<\/td>\n",
              "      <td>...<\/td>\n",
              "      <td>2553.0<\/td>\n",
              "      <td>25.0<\/td>\n",
              "      <td>NaN<\/td>\n",
              "      <td>more than 15<\/td>\n",
              "      <td>2.0<\/td>\n",
              "      <td>1.0<\/td>\n",
              "      <td>5.0<\/td>\n",
              "      <td>6.0<\/td>\n",
              "      <td>9.0<\/td>\n",
              "      <td>1.0<\/td>\n",
              "    <\/tr>\n",
              "    <tr>\n",
              "      <th>4<\/th>\n",
              "      <td>0<\/td>\n",
              "      <td>24D<\/td>\n",
              "      <td>30B<\/td>\n",
              "      <td>NaN<\/td>\n",
              "      <td>380107.0<\/td>\n",
              "      <td>100.0<\/td>\n",
              "      <td>0.0<\/td>\n",
              "      <td>0.0<\/td>\n",
              "      <td>0.0<\/td>\n",
              "      <td>0.0<\/td>\n",
              "      <td>...<\/td>\n",
              "      <td>2923.0<\/td>\n",
              "      <td>25.0<\/td>\n",
              "      <td>NaN<\/td>\n",
              "      <td>Less than 0<\/td>\n",
              "      <td>0.0<\/td>\n",
              "      <td>2.0<\/td>\n",
              "      <td>0.0<\/td>\n",
              "      <td>0.0<\/td>\n",
              "      <td>0.0<\/td>\n",
              "      <td>0.0<\/td>\n",
              "    <\/tr>\n",
              "  <\/tbody>\n",
              "<\/table>\n",
              "<p>5 rows × 39 columns<\/p>\n",
              "<\/div>"
            ]
          },
          "metadata":{
            
          },
          "output_type":"display_data"
        }
      ],
      "metadata":{
        
      }
    },
    {
      "cell_type":"markdown",
      "source":[
        "Видно, что в датасете есть как числовые, так и категориальные признаки. Получим списки их названий:"
      ],
      "attachments":{
        
      },
      "metadata":{
        
      }
    },
    {
      "cell_type":"code",
      "source":[
        "#vibo: выделяем числовые признаки\/столбцы\n",
        "numeric_cols = ['RFCD.Percentage.1', 'RFCD.Percentage.2', 'RFCD.Percentage.3', \n",
        "                'RFCD.Percentage.4', 'RFCD.Percentage.5',\n",
        "                'SEO.Percentage.1', 'SEO.Percentage.2', 'SEO.Percentage.3',\n",
        "                'SEO.Percentage.4', 'SEO.Percentage.5',\n",
        "                'Year.of.Birth.1', 'Number.of.Successful.Grant.1', 'Number.of.Unsuccessful.Grant.1']\n",
        "#vibo: удаляя из датасета числовые признаки, получаем столбцы с категориальными признаками\n",
        "categorical_cols = list(set(X.columns.values.tolist()) - set(numeric_cols))"
      ],
      "execution_count":9,
      "outputs":[
        
      ],
      "metadata":{
        
      }
    },
    {
      "cell_type":"code",
      "source":[
        "categorical_cols"
      ],
      "execution_count":10,
      "outputs":[
        {
          "data":{
            "text\/plain":[
              "['Role.1',\n",
              " 'Grant.Category.Code',\n",
              " 'B.1',\n",
              " 'SEO.Code.5',\n",
              " 'SEO.Code.1',\n",
              " 'No..of.Years.in.Uni.at.Time.of.Grant.1',\n",
              " 'RFCD.Code.3',\n",
              " 'SEO.Code.2',\n",
              " 'Country.of.Birth.1',\n",
              " 'RFCD.Code.1',\n",
              " 'Dept.No..1',\n",
              " 'RFCD.Code.2',\n",
              " 'Sponsor.Code',\n",
              " 'Home.Language.1',\n",
              " 'C.1',\n",
              " 'Contract.Value.Band...see.note.A',\n",
              " 'SEO.Code.4',\n",
              " 'A.1',\n",
              " 'With.PHD.1',\n",
              " 'RFCD.Code.5',\n",
              " 'SEO.Code.3',\n",
              " 'Person.ID.1',\n",
              " 'RFCD.Code.4',\n",
              " 'A..1',\n",
              " 'Faculty.No..1']"
            ]
          },
          "metadata":{
            
          },
          "output_type":"display_data"
        }
      ],
      "metadata":{
        
      }
    },
    {
      "cell_type":"code",
      "source":[
        "numeric_cols"
      ],
      "execution_count":11,
      "outputs":[
        {
          "data":{
            "text\/plain":[
              "['RFCD.Percentage.1',\n",
              " 'RFCD.Percentage.2',\n",
              " 'RFCD.Percentage.3',\n",
              " 'RFCD.Percentage.4',\n",
              " 'RFCD.Percentage.5',\n",
              " 'SEO.Percentage.1',\n",
              " 'SEO.Percentage.2',\n",
              " 'SEO.Percentage.3',\n",
              " 'SEO.Percentage.4',\n",
              " 'SEO.Percentage.5',\n",
              " 'Year.of.Birth.1',\n",
              " 'Number.of.Successful.Grant.1',\n",
              " 'Number.of.Unsuccessful.Grant.1']"
            ]
          },
          "metadata":{
            
          },
          "output_type":"display_data"
        }
      ],
      "metadata":{
        
      }
    },
    {
      "cell_type":"markdown",
      "source":[
        "Также в нём присутствуют пропущенные значения. Очевидны решением будет исключение всех данных, у которых пропущено хотя бы одно значение. Сделаем это:"
      ],
      "attachments":{
        
      },
      "metadata":{
        
      }
    },
    {
      "cell_type":"code",
      "source":[
        "#vibo: если просто выбросить все пропуски в датасете почти ничего не останется\n",
        "data.dropna().shape"
      ],
      "execution_count":12,
      "outputs":[
        {
          "data":{
            "text\/plain":[
              "(213, 39)"
            ]
          },
          "metadata":{
            
          },
          "output_type":"display_data"
        }
      ],
      "metadata":{
        
      }
    },
    {
      "cell_type":"markdown",
      "source":[
        "Видно, что тогда мы выбросим почти все данные, и такой метод решения в данном случае не сработает.\n",
        "\n",
        "Пропущенные значения можно так же интерпретировать, для этого существует несколько способов, они различаются для категориальных и вещественных признаков.\n",
        "\n",
        "Для вещественных признаков:\n",
        "- заменить на 0 (данный признак давать вклад в предсказание для данного объекта не будет)\n",
        "- заменить на среднее (каждый пропущенный признак будет давать такой же вклад, как и среднее значение признака на датасете)\n",
        "\n",
        "Для категориальных:\n",
        "- интерпретировать пропущенное значение, как ещё одну категорию (данный способ является самым естественным, так как в случае категорий у нас есть уникальная возможность не потерять информацию о наличии пропущенных значений; обратите внимание, что в случае вещественных признаков данная информация неизбежно теряется)"
      ],
      "attachments":{
        
      },
      "metadata":{
        
      }
    },
    {
      "cell_type":"markdown",
      "source":[
        "##  Задание 0. Обработка пропущенных значений.\n",
        "1. Заполните пропущенные вещественные значения в X нулями и средними по столбцам, назовите полученные датафреймы X_real_zeros и X_real_mean соответственно. Для подсчёта средних используйте описанную ниже функцию calculate_means, которой требуется передать на вход вешественные признаки из исходного датафрейма. **Для подсчета среднего можно использовать функцию pandas.mean()**\n",
        "2. Все категориальные признаки в X преобразуйте в строки, пропущенные значения требуется также преобразовать в какие-либо строки, которые не являются категориями (например, 'NA'), полученный датафрейм назовите X_cat.\n",
        "\n",
        "Для объединения выборок здесь и далее в задании рекомендуется использовать функции\n",
        "\n",
        "    np.hstack(...)\n",
        "    np.vstack(...)"
      ],
      "attachments":{
        
      },
      "metadata":{
        
      }
    },
    {
      "cell_type":"code",
      "source":[
        "def calculate_means(numeric_data):\n",
        "    means = np.zeros(numeric_data.shape[1])\n",
        "    for j in range(numeric_data.shape[1]):\n",
        "        to_sum = numeric_data.iloc[:,j]\n",
        "        indices = np.nonzero(~numeric_data.iloc[:,j].isnull())[0]\n",
        "        correction = np.amax(to_sum[indices])\n",
        "        to_sum \/= correction\n",
        "        for i in indices:\n",
        "            means[j] += to_sum[i]\n",
        "        means[j] \/= indices.size\n",
        "        means[j] *= correction\n",
        "    return pd.Series(means, numeric_data.columns)"
      ],
      "execution_count":13,
      "outputs":[
        
      ],
      "metadata":{
        
      }
    },
    {
      "cell_type":"markdown",
      "source":[
        "### vibo: итого вещественные признаки X_real_zeros и X_real_mean, а также вещественные признаки X_cat"
      ],
      "attachments":{
        
      },
      "metadata":{
        
      }
    },
    {
      "cell_type":"code",
      "source":[
        "# place your code here\n",
        "#vibo: заполняем датафрейм признаков Х (ЦИФРОВЫЕ КОЛОНКИ) в местах пропусков данных нулями\n",
        "X_real_zeros = pd.DataFrame\n",
        "X_real_zeros = X[numeric_cols].fillna(0)\n",
        "\n",
        "#vibo: заполняем датафрейм признаков Х (ЦИФРОВЫЕ КОЛОНКИ) в местах пропусков данных средним по столбцам значением\n",
        "X_real_mean = pd.DataFrame\n",
        "X_real_mean = X[numeric_cols].replace(np.nan, X[numeric_cols].mean())\n",
        "\n",
        "#vibo: категориальные признаки в Х превращаем в строки, пропуски заменяем на 'NA'\n",
        "X_cat = pd.DataFrame\n",
        "X_cat = X[categorical_cols].fillna('NA')\n",
        "X_cat = X_cat.astype('string')"
      ],
      "execution_count":14,
      "outputs":[
        
      ],
      "metadata":{
        
      }
    },
    {
      "cell_type":"markdown",
      "source":[
        "## Преобразование категориальных признаков."
      ],
      "attachments":{
        
      },
      "metadata":{
        
      }
    },
    {
      "cell_type":"markdown",
      "source":[
        "В предыдущей ячейке мы разделили наш датасет ещё на две части: в одной присутствуют только вещественные признаки, в другой только категориальные. Это понадобится нам для раздельной последующей обработке этих данных, а так же для сравнения качества работы тех или иных методов.\n",
        "\n",
        "Для использования модели регрессии требуется преобразовать категориальные признаки в вещественные. Рассмотрим основной способ преоборазования категориальных признаков в вещественные: one-hot encoding. Его идея заключается в том, что мы преобразуем категориальный признак при помощи бинарного кода: каждой категории ставим в соответствие набор из нулей и единиц.\n",
        "\n",
        "Посмотрим, как данный метод работает на простом наборе данных."
      ],
      "attachments":{
        
      },
      "metadata":{
        
      }
    },
    {
      "cell_type":"code",
      "source":[
        "from sklearn.linear_model import LogisticRegression as LR\n",
        "from sklearn.feature_extraction import DictVectorizer as DV\n",
        "\n",
        "categorial_data = pd.DataFrame({'sex': ['male', 'female', 'male', 'female'], \n",
        "                                'nationality': ['American', 'European', 'Asian', 'European']})\n",
        "print('Исходные данные:\\n')\n",
        "print(categorial_data)\n",
        "\n",
        "#vibo: важный момент - кодирование категориальных признаков в бинарные\n",
        "encoder = DV(sparse = False)\n",
        "encoded_data = encoder.fit_transform(categorial_data.T.to_dict().values())\n",
        "print('\\nЗакодированные данные:\\n')\n",
        "print(encoded_data)"
      ],
      "execution_count":15,
      "outputs":[
        {
          "name":"stdout",
          "text":[
            "Исходные данные:\n",
            "\n",
            "      sex nationality\n",
            "0    male    American\n",
            "1  female    European\n",
            "2    male       Asian\n",
            "3  female    European\n",
            "\n",
            "Закодированные данные:\n",
            "\n",
            "[[1. 0. 0. 0. 1.]\n",
            " [0. 0. 1. 1. 0.]\n",
            " [0. 1. 0. 0. 1.]\n",
            " [0. 0. 1. 1. 0.]]\n"
          ],
          "output_type":"stream"
        }
      ],
      "metadata":{
        
      }
    },
    {
      "cell_type":"markdown",
      "source":[
        "Как видно, в первые три колонки оказалась закодированна информация о стране, а во вторые две - о поле. При этом для совпадающих элементов выборки строки будут полностью совпадать. Также из примера видно, что кодирование признаков сильно увеличивает их количество, но полностью сохраняет информацию, в том числе о наличии пропущенных значений (их наличие просто становится одним из бинарных признаков в преобразованных данных).\n",
        "\n",
        "Теперь применим one-hot encoding к категориальным признакам из исходного датасета. Обратите внимание на общий для всех методов преобработки данных интерфейс. Функция\n",
        "\n",
        "    encoder.fit_transform(X)\n",
        "    \n",
        "позволяет вычислить необходимые параметры преобразования, впоследствии к новым данным можно уже применять функцию\n",
        "\n",
        "    encoder.transform(X)\n",
        "    \n",
        "Очень важно применять одинаковое преобразование как к обучающим, так и тестовым данным, потому что в противном случае вы получите непредсказуемые, и, скорее всего, плохие результаты. В частности, если вы отдельно закодируете обучающую и тестовую выборку, то получите вообще говоря разные коды для одних и тех же признаков, и ваше решение работать не будет.\n",
        "\n",
        "Также параметры многих преобразований (например, рассмотренное ниже масштабирование) нельзя вычислять одновременно на данных из обучения и теста, потому что иначе подсчитанные на тесте метрики качества будут давать смещённые оценки на качество работы алгоритма. Кодирование категориальных признаков не считает на обучающей выборке никаких параметров, поэтому его можно применять сразу к всему датасету."
      ],
      "attachments":{
        
      },
      "metadata":{
        
      }
    },
    {
      "cell_type":"markdown",
      "source":[
        "### vibo: то место где пришлось переводить numpy в pandas DataFrame (незапланированно)"
      ],
      "attachments":{
        
      },
      "metadata":{
        
      }
    },
    {
      "cell_type":"code",
      "source":[
        "from sklearn.feature_extraction import DictVectorizer\n",
        "#vibo: ВАЖНО! СНАЧАЛА КОДИРУЕМ (переводим из категориальных признаков в бинарные), ПОТОМ ДЕЛИМ НА TRAIN\/TEST\n",
        "#vibo: кодируем категориальные признаки X_cat (6000х25), в бинарные, получаем 6000х5593\n",
        "encoder = DictVectorizer(sparse = False)\n",
        "X_cat_oh = encoder.fit_transform(X_cat.T.to_dict().values())\n",
        "\n",
        "#vibo: преобразуем np.array в DataFrame перед разбиением на train и test\n",
        "X_cat_oh = pd.DataFrame(X_cat_oh)"
      ],
      "execution_count":16,
      "outputs":[
        
      ],
      "metadata":{
        
      }
    },
    {
      "cell_type":"markdown",
      "source":[
        "Для построения метрики качества по результату обучения требуется разделить исходный датасет на обучающую и тестовую выборки.\n",
        "\n",
        "Обращаем внимание на заданный параметр для генератора случайных чисел: random_state. Так как результаты на обучении и тесте будут зависеть от того, как именно вы разделите объекты, то предлагается использовать заранее определённое значение для получение результатов, согласованных с ответами в системе проверки заданий."
      ],
      "attachments":{
        
      },
      "metadata":{
        
      }
    },
    {
      "cell_type":"markdown",
      "source":[
        "#### vibo: Первчиное разбиение данных на train и test"
      ],
      "attachments":{
        
      },
      "metadata":{
        
      }
    },
    {
      "cell_type":"code",
      "source":[
        "#vibo: ВАЖНО! после кодирования делим на train и test, фиксируем random_state\n",
        "from sklearn.model_selection import train_test_split\n",
        "\n",
        "(X_train_real_zeros, \n",
        " X_test_real_zeros, \n",
        " y_train, y_test) = train_test_split(X_real_zeros, y, \n",
        "                                     test_size=0.3, \n",
        "                                     random_state=0)\n",
        "(X_train_real_mean, \n",
        " X_test_real_mean) = train_test_split(X_real_mean, \n",
        "                                      test_size=0.3, \n",
        "                                      random_state=0)\n",
        "(X_train_cat_oh,\n",
        " X_test_cat_oh) = train_test_split(X_cat_oh, \n",
        "                                   test_size=0.3, \n",
        "                                   random_state=0)"
      ],
      "execution_count":17,
      "outputs":[
        
      ],
      "metadata":{
        
      }
    },
    {
      "cell_type":"markdown",
      "source":[
        "## Описание классов"
      ],
      "attachments":{
        
      },
      "metadata":{
        
      }
    },
    {
      "cell_type":"markdown",
      "source":[
        "Итак, мы получили первые наборы данных, для которых выполнены оба ограничения логистической регрессии на входные данные (***#vibo: все параметры числовые, нет пропущенных значений***). Обучим на них регрессию, используя имеющийся в библиотеке sklearn функционал по подбору гиперпараметров модели\n",
        "    \n",
        "    optimizer = GridSearchCV(estimator, param_grid)\n",
        "\n",
        "где:\n",
        "- estimator - обучающий алгоритм, для которого будет производиться подбор параметров\n",
        "- param_grid - словарь параметров, ключами которого являются строки-названия, которые передаются алгоритму estimator, а значения - набор параметров для перебора\n",
        "\n",
        "Данный класс выполняет кросс-валидацию обучающей выборки для каждого набора параметров и находит те, на которых алгоритм работает лучше всего. Этот метод позволяет настраивать гиперпараметры по обучающей выборке, избегая переобучения. Некоторые опциональные параметры вызова данного класса, которые нам понадобятся:\n",
        "- scoring - функционал качества, максимум которого ищется кросс валидацией, по умолчанию используется функция score() класса esimator\n",
        "- n_jobs - позволяет ускорить кросс-валидацию, выполняя её параллельно, число определяет количество одновременно запущенных задач\n",
        "- cv - количество фолдов, на которые разбивается выборка при кросс-валидации\n",
        "\n",
        "После инициализации класса GridSearchCV, процесс подбора параметров запускается следующим методом:\n",
        "\n",
        "    optimizer.fit(X, y)\n",
        "    \n",
        "На выходе для получения предсказаний можно пользоваться функцией\n",
        "\n",
        "    optimizer.predict(X)\n",
        "    \n",
        "для меток или\n",
        "\n",
        "    optimizer.predict_proba(X)\n",
        "    \n",
        "для вероятностей (в случае использования логистической регрессии).\n",
        "    \n",
        "Также можно напрямую получить оптимальный класс estimator и оптимальные параметры, так как они является атрибутами класса GridSearchCV:\n",
        "- best\\_estimator\\_ - лучший алгоритм\n",
        "- best\\_params\\_ - лучший набор параметров\n",
        "\n",
        "Класс логистической регрессии выглядит следующим образом:\n",
        "\n",
        "    estimator = LogisticRegression(penalty)\n",
        "   \n",
        "где penalty принимает либо значение 'l2', либо 'l1'. По умолчанию устанавливается значение 'l2', и везде в задании, если об этом не оговорено особо, предполагается использование логистической регрессии с L2-регуляризацией."
      ],
      "attachments":{
        
      },
      "metadata":{
        
      }
    },
    {
      "cell_type":"markdown",
      "source":[
        "## Задание 1. Сравнение способов заполнения вещественных пропущенных значений.\n",
        "1. Составьте две обучающие выборки из вещественных и категориальных признаков: в одной вещественные признаки, где пропущенные значения заполнены нулями, в другой - средними. Рекомендуется записывать в выборки сначала вещественные, а потом категориальные признаки.\n",
        "2. Обучите на них логистическую регрессию, подбирая параметры из заданной сетки param_grid по методу кросс-валидации с числом фолдов cv=3. **При обучении использовать параметр solver='liblinear' в этом и последующих заданиях ноутбука.**\n",
        "3. Постройте два графика оценок точности +- их стандратного отклонения в зависимости от гиперпараметра и убедитесь, что вы действительно нашли её максимум. Также обратите внимание на большую дисперсию получаемых оценок (уменьшить её можно увеличением числа фолдов cv).\n",
        "4. Получите две метрики качества AUC ROC на тестовой выборке и сравните их между собой. Какой способ заполнения пропущенных вещественных значений работает лучше? ***В дальнейшем для выполнения задания в качестве вещественных признаков используйте ту выборку, которая даёт лучшее качество на тесте.*** (vibo: у меня получилось mean, но дальше по тексту идет zeros)\n",
        "5. Передайте два значения AUC ROC (сначала для выборки, заполненной средними, потом для выборки, заполненной нулями) в функцию write_answer_1 и запустите её. Полученный файл является ответом на 1 задание.\n",
        "\n",
        "Информация для интересующихся: вообще говоря, не вполне логично оптимизировать на кросс-валидации заданный по умолчанию в классе логистической регрессии функционал accuracy, а измерять на тесте AUC ROC, но это, как и ограничение размера выборки, сделано для ускорения работы процесса кросс-валидации."
      ],
      "attachments":{
        
      },
      "metadata":{
        
      }
    },
    {
      "cell_type":"code",
      "source":[
        "from sklearn.linear_model import LogisticRegression\n",
        "from sklearn.model_selection import GridSearchCV\n",
        "from sklearn.metrics import roc_auc_score\n",
        "\n",
        "def plot_scores(optimizer):\n",
        "    scores=[]\n",
        "    for i in range(len(optimizer.cv_results_['params'])):\n",
        "        scores.append([optimizer.cv_results_['params'][i]['C'], \n",
        "                optimizer.cv_results_['mean_test_score'][i],\n",
        "                optimizer.cv_results_['std_test_score'][i]])\n",
        "    scores = np.array(scores)\n",
        "    plt.semilogx(scores[:,0], scores[:,1])\n",
        "    plt.fill_between(scores[:,0], scores[:,1]-scores[:,2], \n",
        "                                  scores[:,1]+scores[:,2], alpha=0.3)\n",
        "    plt.show()\n",
        "    \n",
        "def write_answer_1(auc_1, auc_2):\n",
        "    auc = (auc_1 + auc_2)\/2\n",
        "    with open(\"preprocessing_lr_answer1.txt\", \"w\") as fout:\n",
        "        fout.write(str(auc))\n",
        "        \n",
        "param_grid = {'C': [0.01, 0.05, 0.1, 0.5, 1, 5, 10]}\n",
        "cv = 3\n",
        "\n",
        "# place your code here"
      ],
      "execution_count":18,
      "outputs":[
        
      ],
      "metadata":{
        
      }
    },
    {
      "cell_type":"markdown",
      "source":[
        "### vibo: п.1 Задания 1. объединяем вещественные и категориальные признаки X_train_real_zeros_cat_oh и X_train_real_mean_cat_oh"
      ],
      "attachments":{
        
      },
      "metadata":{
        
      }
    },
    {
      "cell_type":"code",
      "source":[
        "#vibo: первое, что нужно сделать - объединить train, сначала вещественные, потом категориальные признаки\n",
        "#vibo: объединяем обучающую выборку, признаки из real_zeros и cat_oh\n",
        "X_train_real_zeros_cat_oh = X_train_real_zeros.join(X_train_cat_oh)\n",
        "#vibo: объединяем обучающую выборку, признаки из real_mean и cat_oh\n",
        "X_train_real_mean_cat_oh = X_train_real_mean.join(X_train_cat_oh)"
      ],
      "execution_count":19,
      "outputs":[
        
      ],
      "metadata":{
        
      }
    },
    {
      "cell_type":"code",
      "source":[
        "#vibo: проверка размерности двух df (если True все норм, размерность совпадает)\n",
        "X_train_real_zeros_cat_oh.shape == X_train_real_mean_cat_oh.shape"
      ],
      "execution_count":20,
      "outputs":[
        {
          "data":{
            "text\/plain":[
              "True"
            ]
          },
          "metadata":{
            
          },
          "output_type":"display_data"
        }
      ],
      "metadata":{
        
      }
    },
    {
      "cell_type":"code",
      "source":[
        "#vibo: проверка на пропуски, если False, все норм пропусков нет\n",
        "X_train_real_zeros_cat_oh.isnull().values.any()"
      ],
      "execution_count":21,
      "outputs":[
        {
          "data":{
            "text\/plain":[
              "False"
            ]
          },
          "metadata":{
            
          },
          "output_type":"display_data"
        }
      ],
      "metadata":{
        
      }
    },
    {
      "cell_type":"code",
      "source":[
        "#vibo: проверка на пропуски, если False, все норм пропусков нет\n",
        "X_train_real_mean_cat_oh.isnull().values.any()"
      ],
      "execution_count":22,
      "outputs":[
        {
          "data":{
            "text\/plain":[
              "False"
            ]
          },
          "metadata":{
            
          },
          "output_type":"display_data"
        }
      ],
      "metadata":{
        
      }
    },
    {
      "cell_type":"markdown",
      "source":[
        "### vibo: п.2 Задания 1. Приступаем к обучению линейной модели (в данному случае логистической регрессии)"
      ],
      "attachments":{
        
      },
      "metadata":{
        
      }
    },
    {
      "cell_type":"code",
      "source":[
        "#vibo: II. задаем алгоритм\n",
        "#vibo: по условию задания задаем параметр обучения solver='liblinear', penalty по умолчанию 'l2', поставил явно его\n",
        "estimator = LogisticRegression(solver='liblinear', penalty='l2')"
      ],
      "execution_count":23,
      "outputs":[
        
      ],
      "metadata":{
        
      }
    },
    {
      "cell_type":"code",
      "source":[
        "#vibo: III. генерируем сетку\n",
        "#estimator.get_params().keys()\n",
        "#vibo: из теории выше С - стандартный гиперпараметр, который позволяет модели подстраиваться под данные\n",
        "param_grid = {'C': [0.01, 0.05, 0.1, 0.5, 1, 5, 10]}"
      ],
      "execution_count":24,
      "outputs":[
        
      ],
      "metadata":{
        
      }
    },
    {
      "cell_type":"code",
      "source":[
        "#vibo: IV стратегия кросс-валидации (сейчас простая, на три фолда)\n",
        "cv = 3"
      ],
      "execution_count":25,
      "outputs":[
        
      ],
      "metadata":{
        
      }
    },
    {
      "cell_type":"code",
      "source":[
        "#vibo: V. готовим сетку\n",
        "optimizer = GridSearchCV(estimator, param_grid, cv=cv)\n",
        "#vibo: если вы не передаете конкретную метрику scoring, GridSearchCV будет использовать метод score по умолчанию для estimator\n",
        "#vibo: в моем случае estimator: LogisticRegression (точно не нашел, может accuracy?)"
      ],
      "execution_count":26,
      "outputs":[
        
      ],
      "metadata":{
        
      }
    },
    {
      "cell_type":"markdown",
      "source":[
        "#### vibo: обучаем сетку real_zeros"
      ],
      "attachments":{
        
      },
      "metadata":{
        
      }
    },
    {
      "cell_type":"code",
      "source":[
        "#vibo: VI. обучаем готовую сетку для X_train_real_zeros_cat_oh\n",
        "%time\n",
        "optimizer.fit(X_train_real_zeros_cat_oh, y_train)"
      ],
      "execution_count":27,
      "outputs":[
        {
          "name":"stdout",
          "text":[
            "CPU times: user 3 µs, sys: 1 µs, total: 4 µs\n",
            "Wall time: 8.34 µs\n"
          ],
          "output_type":"stream"
        },
        {
          "data":{
            "text\/plain":[
              "GridSearchCV(cv=3, estimator=LogisticRegression(solver='liblinear'),\n",
              "             param_grid={'C': [0.01, 0.05, 0.1, 0.5, 1, 5, 10]})"
            ]
          },
          "metadata":{
            
          },
          "output_type":"display_data"
        }
      ],
      "metadata":{
        
      }
    },
    {
      "cell_type":"markdown",
      "source":[
        "### vibo: анализ результатов для real_zeros"
      ],
      "attachments":{
        
      },
      "metadata":{
        
      }
    },
    {
      "cell_type":"code",
      "source":[
        "print('Лучший estimator: {}'. format(optimizer.best_estimator_))\n",
        "print('Лучшая оценка: {}'.format(optimizer.best_score_))\n",
        "print('Лучшие параметры: {}'.format(optimizer.best_params_))"
      ],
      "execution_count":28,
      "outputs":[
        {
          "name":"stdout",
          "text":[
            "Лучший estimator: LogisticRegression(C=0.05, solver='liblinear')\n",
            "Лучшая оценка: 0.7949999999999999\n",
            "Лучшие параметры: {'C': 0.05}\n"
          ],
          "output_type":"stream"
        }
      ],
      "metadata":{
        
      }
    },
    {
      "cell_type":"code",
      "source":[
        "#vibo: вывод всех результатов работы сетки\n",
        "optimizer.cv_results_"
      ],
      "execution_count":29,
      "outputs":[
        {
          "data":{
            "text\/plain":[
              "{'mean_fit_time': array([1.45030411, 1.04013332, 1.15768361, 1.13805381, 1.53505619,\n",
              "        0.59609222, 0.60484552]),\n",
              " 'std_fit_time': array([0.59411744, 0.07696029, 0.30496444, 0.16390992, 0.32430962,\n",
              "        0.04117172, 0.03915709]),\n",
              " 'mean_score_time': array([0.15582609, 0.1367534 , 0.13333583, 0.13709203, 0.14808838,\n",
              "        0.05059234, 0.05033469]),\n",
              " 'std_score_time': array([0.01145192, 0.01498907, 0.03376428, 0.02537339, 0.0206667 ,\n",
              "        0.00063819, 0.00018914]),\n",
              " 'param_C': masked_array(data=[0.01, 0.05, 0.1, 0.5, 1, 5, 10],\n",
              "              mask=[False, False, False, False, False, False, False],\n",
              "        fill_value='?',\n",
              "             dtype=object),\n",
              " 'params': [{'C': 0.01},\n",
              "  {'C': 0.05},\n",
              "  {'C': 0.1},\n",
              "  {'C': 0.5},\n",
              "  {'C': 1},\n",
              "  {'C': 5},\n",
              "  {'C': 10}],\n",
              " 'split0_test_score': array([0.78928571, 0.79714286, 0.795     , 0.78214286, 0.77857143,\n",
              "        0.76      , 0.75428571]),\n",
              " 'split1_test_score': array([0.785     , 0.81428571, 0.81142857, 0.80785714, 0.80428571,\n",
              "        0.79071429, 0.77928571]),\n",
              " 'split2_test_score': array([0.76642857, 0.77357143, 0.775     , 0.78      , 0.77285714,\n",
              "        0.77428571, 0.75928571]),\n",
              " 'mean_test_score': array([0.7802381 , 0.795     , 0.79380952, 0.79      , 0.7852381 ,\n",
              "        0.775     , 0.76428571]),\n",
              " 'std_test_score': array([0.00992032, 0.01669046, 0.01489571, 0.01265718, 0.01366924,\n",
              "        0.01254922, 0.01080123]),\n",
              " 'rank_test_score': array([5, 1, 2, 3, 4, 6, 7], dtype=int32)}"
            ]
          },
          "metadata":{
            
          },
          "output_type":"display_data"
        }
      ],
      "metadata":{
        
      }
    },
    {
      "cell_type":"code",
      "source":[
        "#vibo: предсказания по регрессору real_zeros\n",
        "print('Предсказние на train:        {}'.format(list(optimizer.predict(X_train_real_zeros_cat_oh)[:20])))\n",
        "print('Истинные ответы на train:    {}'.format(list(y_train[:20])))\n",
        "print('Метки предсказаний на train:')\n",
        "optimizer.predict_proba(X_train_real_zeros_cat_oh)[:20]"
      ],
      "execution_count":30,
      "outputs":[
        {
          "name":"stdout",
          "text":[
            "Предсказние на train:        [1, 0, 1, 0, 1, 0, 0, 0, 1, 1, 0, 0, 0, 0, 1, 0, 1, 1, 1, 1]\n",
            "Истинные ответы на train:    [1, 0, 0, 0, 1, 0, 0, 0, 1, 1, 0, 0, 1, 0, 1, 0, 1, 1, 1, 1]\n",
            "Метки предсказаний на train:\n"
          ],
          "output_type":"stream"
        },
        {
          "data":{
            "text\/plain":[
              "array([[0.30037835, 0.69962165],\n",
              "       [0.60120672, 0.39879328],\n",
              "       [0.49140875, 0.50859125],\n",
              "       [0.91618211, 0.08381789],\n",
              "       [0.29512578, 0.70487422],\n",
              "       [0.95507073, 0.04492927],\n",
              "       [0.88898294, 0.11101706],\n",
              "       [0.52894978, 0.47105022],\n",
              "       [0.32221   , 0.67779   ],\n",
              "       [0.4950891 , 0.5049109 ],\n",
              "       [0.92321194, 0.07678806],\n",
              "       [0.65421355, 0.34578645],\n",
              "       [0.73066644, 0.26933356],\n",
              "       [0.51757832, 0.48242168],\n",
              "       [0.04568086, 0.95431914],\n",
              "       [0.89021092, 0.10978908],\n",
              "       [0.31910778, 0.68089222],\n",
              "       [0.17835073, 0.82164927],\n",
              "       [0.12198186, 0.87801814],\n",
              "       [0.39714796, 0.60285204]])"
            ]
          },
          "metadata":{
            
          },
          "output_type":"display_data"
        }
      ],
      "metadata":{
        
      }
    },
    {
      "cell_type":"markdown",
      "source":[
        "### vibo: п.3 Задания 1. Построение графика оценок точности и +- их стандартного отклонения для real_zeros"
      ],
      "attachments":{
        
      },
      "metadata":{
        
      }
    },
    {
      "cell_type":"code",
      "source":[
        "plot_scores(optimizer)"
      ],
      "execution_count":31,
      "outputs":[
        {
          "data":{
            "image\/png":"[encoded data removed]"
          },
          "metadata":{
            "image\/png":{
              
            }
          },
          "output_type":"display_data"
        }
      ],
      "metadata":{
        
      }
    },
    {
      "cell_type":"markdown",
      "source":[
        "### vibo: п.4 Задания 1. AUC ROC на тестовой выборке для real_zeros"
      ],
      "attachments":{
        
      },
      "metadata":{
        
      }
    },
    {
      "cell_type":"code",
      "source":[
        "#vibo: объединяем тестовую выборку, признаки из real_zeros и cat_oh\n",
        "X_test_real_zeros_cat_oh = X_test_real_zeros.join(X_test_cat_oh)\n",
        "#vibo: предсказываем метки (вероятности 0 и 1) по тестовой выборке\n",
        "X_test_zeros_predict = optimizer.predict_proba(X_test_real_zeros_cat_oh)\n",
        "#vibo: выбираем метки вероятности 1 (второй столбец)\n",
        "X_test_zeros_predict_1 = X_test_zeros_predict[:, 1]\n",
        "#vibo: считаем площадь под кривой, на вход - истинные значения и предсказание вероятности метки 1\n",
        "auc_2_zeros = roc_auc_score(y_test, X_test_zeros_predict_1)\n",
        "auc_2_zeros"
      ],
      "execution_count":32,
      "outputs":[
        {
          "data":{
            "text\/plain":[
              "0.8844937394125604"
            ]
          },
          "metadata":{
            
          },
          "output_type":"display_data"
        }
      ],
      "metadata":{
        
      }
    },
    {
      "cell_type":"markdown",
      "source":[
        "#### vibo: обучаем сетку real_mean"
      ],
      "attachments":{
        
      },
      "metadata":{
        
      }
    },
    {
      "cell_type":"code",
      "source":[
        "#vibo: VI. обучаем готовую сетку для X_train_real_mean_cat_oh\n",
        "%time\n",
        "optimizer.fit(X_train_real_mean_cat_oh, y_train)"
      ],
      "execution_count":33,
      "outputs":[
        {
          "name":"stdout",
          "text":[
            "CPU times: user 7 µs, sys: 3 µs, total: 10 µs\n",
            "Wall time: 8.58 µs\n"
          ],
          "output_type":"stream"
        },
        {
          "data":{
            "text\/plain":[
              "GridSearchCV(cv=3, estimator=LogisticRegression(solver='liblinear'),\n",
              "             param_grid={'C': [0.01, 0.05, 0.1, 0.5, 1, 5, 10]})"
            ]
          },
          "metadata":{
            
          },
          "output_type":"display_data"
        }
      ],
      "metadata":{
        
      }
    },
    {
      "cell_type":"markdown",
      "source":[
        "### vibo: анализ результатов для real_mean"
      ],
      "attachments":{
        
      },
      "metadata":{
        
      }
    },
    {
      "cell_type":"code",
      "source":[
        "print('Лучший estimator: {}'. format(optimizer.best_estimator_))\n",
        "print('Лучшая оценка: {}'.format(optimizer.best_score_))\n",
        "print('Лучшие параметры: {}'.format(optimizer.best_params_))"
      ],
      "execution_count":34,
      "outputs":[
        {
          "name":"stdout",
          "text":[
            "Лучший estimator: LogisticRegression(C=0.1, solver='liblinear')\n",
            "Лучшая оценка: 0.7949999999999999\n",
            "Лучшие параметры: {'C': 0.1}\n"
          ],
          "output_type":"stream"
        }
      ],
      "metadata":{
        
      }
    },
    {
      "cell_type":"code",
      "source":[
        "#vibo: предсказания по регрессору real_mean\n",
        "print('Предсказние на train:        {}'.format(list(optimizer.predict(X_train_real_mean_cat_oh)[:20])))\n",
        "print('Истинные ответы на train:    {}'.format(list(y_train[:20])))\n",
        "print('Метки предсказаний на train:')\n",
        "optimizer.predict_proba(X_train_real_mean_cat_oh)[:20]"
      ],
      "execution_count":35,
      "outputs":[
        {
          "name":"stdout",
          "text":[
            "Предсказние на train:        [1, 0, 0, 0, 1, 0, 0, 0, 1, 0, 0, 0, 0, 0, 1, 0, 1, 1, 1, 1]\n",
            "Истинные ответы на train:    [1, 0, 0, 0, 1, 0, 0, 0, 1, 1, 0, 0, 1, 0, 1, 0, 1, 1, 1, 1]\n",
            "Метки предсказаний на train:\n"
          ],
          "output_type":"stream"
        },
        {
          "data":{
            "text\/plain":[
              "array([[0.2416016 , 0.7583984 ],\n",
              "       [0.62566396, 0.37433604],\n",
              "       [0.56104613, 0.43895387],\n",
              "       [0.91924516, 0.08075484],\n",
              "       [0.2577395 , 0.7422605 ],\n",
              "       [0.96173048, 0.03826952],\n",
              "       [0.87864311, 0.12135689],\n",
              "       [0.54911137, 0.45088863],\n",
              "       [0.28221097, 0.71778903],\n",
              "       [0.57501296, 0.42498704],\n",
              "       [0.94758087, 0.05241913],\n",
              "       [0.68840867, 0.31159133],\n",
              "       [0.74240625, 0.25759375],\n",
              "       [0.518765  , 0.481235  ],\n",
              "       [0.0348806 , 0.9651194 ],\n",
              "       [0.92488034, 0.07511966],\n",
              "       [0.3172303 , 0.6827697 ],\n",
              "       [0.1264901 , 0.8735099 ],\n",
              "       [0.11156683, 0.88843317],\n",
              "       [0.37089481, 0.62910519]])"
            ]
          },
          "metadata":{
            
          },
          "output_type":"display_data"
        }
      ],
      "metadata":{
        
      }
    },
    {
      "cell_type":"markdown",
      "source":[
        "### vibo: п.3 Задания 1. Построение графика оценок точности и +- их стандартного отклонения для real_mean"
      ],
      "attachments":{
        
      },
      "metadata":{
        
      }
    },
    {
      "cell_type":"code",
      "source":[
        "plot_scores(optimizer)"
      ],
      "execution_count":36,
      "outputs":[
        {
          "data":{
            "image\/png":"[encoded data removed]"
          },
          "metadata":{
            "image\/png":{
              
            }
          },
          "output_type":"display_data"
        }
      ],
      "metadata":{
        
      }
    },
    {
      "cell_type":"markdown",
      "source":[
        "### vibo: п.4 Задания 1. AUC ROC на тестовой выборке для real_mean"
      ],
      "attachments":{
        
      },
      "metadata":{
        
      }
    },
    {
      "cell_type":"code",
      "source":[
        "#vibo: объединяем тестовую выборку, признаки из real_mean и cat_oh\n",
        "X_test_real_mean_cat_oh = X_test_real_mean.join(X_test_cat_oh)\n",
        "#vibo: предсказываем метки (вероятности 0 и 1) по тестовой выборке\n",
        "X_test_mean_predict = optimizer.predict_proba(X_test_real_mean_cat_oh)\n",
        "#vibo: выбираем метки вероятности 1 (второй столбец)\n",
        "X_test_mean_predict_1 = X_test_mean_predict[:, 1]\n",
        "#vibo: считаем площадь под кривой, на вход - истинные значения и предсказание вероятности метки 1\n",
        "auc_1_mean = roc_auc_score(y_test, X_test_mean_predict_1)\n",
        "auc_1_mean"
      ],
      "execution_count":37,
      "outputs":[
        {
          "data":{
            "text\/plain":[
              "0.8878198504982362"
            ]
          },
          "metadata":{
            
          },
          "output_type":"display_data"
        }
      ],
      "metadata":{
        
      }
    },
    {
      "cell_type":"markdown",
      "source":[
        "### vibo: п.5 Задания 1. Запись в файл auc_1 (real_mean), auc_2 (real_zeros) "
      ],
      "attachments":{
        
      },
      "metadata":{
        
      }
    },
    {
      "cell_type":"code",
      "source":[
        "write_answer_1(auc_1_mean, auc_2_zeros)"
      ],
      "execution_count":38,
      "outputs":[
        
      ],
      "metadata":{
        
      }
    },
    {
      "cell_type":"markdown",
      "source":[
        "### vibo: ИТОГО Задание 1. auc_1_mean (0.8878) > auc_2_zeros (0.8845). Т.е. метрика AUC ROC полученная при обучении на тесте по вещественным данным где пропуски заполнены средними лучше, чем там где пропуски заполнены нулями."
      ],
      "attachments":{
        
      },
      "metadata":{
        
      }
    },
    {
      "cell_type":"markdown",
      "source":[
        "## Масштабирование вещественных признаков."
      ],
      "attachments":{
        
      },
      "metadata":{
        
      }
    },
    {
      "cell_type":"markdown",
      "source":[
        "Попробуем как-то улучшить качество классификации. Для этого посмотрим на сами данные:"
      ],
      "attachments":{
        
      },
      "metadata":{
        
      }
    },
    {
      "cell_type":"code",
      "source":[
        "from pandas.plotting import scatter_matrix\n",
        "\n",
        "data_numeric = pd.DataFrame(X_train_real_zeros, columns=numeric_cols)\n",
        "list_cols = ['Number.of.Successful.Grant.1', 'SEO.Percentage.2', 'Year.of.Birth.1']\n",
        "scatter_matrix(data_numeric[list_cols], alpha=0.5, figsize=(10, 10))\n",
        "plt.show()"
      ],
      "execution_count":39,
      "outputs":[
        {
          "data":{
            "image\/png":"[encoded data removed]"
          },
          "metadata":{
            "image\/png":{
              
            }
          },
          "output_type":"display_data"
        }
      ],
      "metadata":{
        
      }
    },
    {
      "cell_type":"markdown",
      "source":[
        "Как видно из графиков, разные признаки очень сильно отличаются друг от друга по модулю значений (обратите внимание на диапазоны значений осей x и y). В случае обычной регрессии это никак не влияет на качество обучаемой модели, т.к. у меньших по модулю признаков будут большие веса, но при использовании регуляризации, которая штрафует модель за большие веса, регрессия, как правило, начинает работать хуже.\n",
        "\n",
        "В таких случаях всегда рекомендуется делать стандартизацию (масштабирование) признаков, для того чтобы они меньше отличались друг друга по модулю, но при этом не нарушались никакие другие свойства признакового пространства. При этом даже если итоговое качество модели на тесте уменьшается, это повышает её интерпретабельность, потому что новые веса имеют смысл \"значимости\" данного признака для итоговой классификации.\n",
        "\n",
        "Стандартизация осуществляется посредством вычета из каждого признака среднего значения и нормировки на выборочное стандартное отклонение:\n",
        "\n",
        "$$ x^{scaled}_{id} = \\dfrac{x_{id} - \\mu_d}{\\sigma_d}, \\quad \\mu_d = \\frac{1}{N} \\sum_{i=1}^l x_{id}, \\quad \\sigma_d = \\sqrt{\\frac{1}{N-1} \\sum_{i=1}^l (x_{id} - \\mu_d)^2} $$"
      ],
      "attachments":{
        
      },
      "metadata":{
        
      }
    },
    {
      "cell_type":"markdown",
      "source":[
        "## Задание 1.5. Масштабирование вещественных признаков.\n",
        "\n",
        "1. По аналогии с вызовом one-hot encoder примените масштабирование вещественных признаков для обучающих и тестовых выборок X_train_real_zeros и X_test_real_zeros, используя класс \n",
        "\n",
        "        StandardScaler\n",
        "   \n",
        "   и методы \n",
        "\n",
        "        StandardScaler.fit_transform(...)\n",
        "        StandardScaler.transform(...)\n",
        "2. Сохраните ответ в переменные X_train_real_scaled и X_test_real_scaled соответственно"
      ],
      "attachments":{
        
      },
      "metadata":{
        
      }
    },
    {
      "cell_type":"code",
      "source":[
        "from sklearn.preprocessing import StandardScaler\n",
        "\n",
        "# place your code here\n",
        "\n",
        "#vibo: задаем объект масштабирования\n",
        "scaler = StandardScaler()\n",
        "#vibo: обучаем объект масштабирования на train (вещественная составляющая)\n",
        "scaler.fit(X_train_real_zeros, y_train)\n",
        "\n",
        "#vibo: после того, как получено преобразование применяем его отдельно к обучающей и тестовой выборке\n",
        "X_train_real_scaled = scaler.transform(X_train_real_zeros)\n",
        "X_test_real_scaled = scaler.transform(X_test_real_zeros)\n",
        "\n",
        "#vibo: преобразуем np.array в DataFrame\n",
        "#X_train_real_scaled = pd.DataFrame(X_train_real_scaled)\n",
        "#X_test_real_scaled = pd.DataFrame(X_test_real_scaled)"
      ],
      "execution_count":40,
      "outputs":[
        
      ],
      "metadata":{
        
      }
    },
    {
      "cell_type":"markdown",
      "source":[
        "## Сравнение признаковых пространств."
      ],
      "attachments":{
        
      },
      "metadata":{
        
      }
    },
    {
      "cell_type":"markdown",
      "source":[
        "Построим такие же графики для преобразованных данных:"
      ],
      "attachments":{
        
      },
      "metadata":{
        
      }
    },
    {
      "cell_type":"code",
      "source":[
        "data_numeric_scaled = pd.DataFrame(X_train_real_scaled, columns=numeric_cols)\n",
        "list_cols = ['Number.of.Successful.Grant.1', 'SEO.Percentage.2', 'Year.of.Birth.1']\n",
        "scatter_matrix(data_numeric_scaled[list_cols], alpha=0.5, figsize=(10, 10))\n",
        "plt.show()"
      ],
      "execution_count":41,
      "outputs":[
        {
          "data":{
            "image\/png":"[encoded data removed]"
          },
          "metadata":{
            "image\/png":{
              
            }
          },
          "output_type":"display_data"
        }
      ],
      "metadata":{
        
      }
    },
    {
      "cell_type":"markdown",
      "source":[
        "Как видно из графиков, мы не поменяли свойства признакового пространства: гистограммы распределений значений признаков, как и их scatter-plots, выглядят так же, как и до нормировки, но при этом все значения теперь находятся примерно в одном диапазоне, тем самым повышая интерпретабельность результатов, а также лучше сочетаясь с идеологией регуляризации."
      ],
      "attachments":{
        
      },
      "metadata":{
        
      }
    },
    {
      "cell_type":"markdown",
      "source":[
        "## Задание 2. Сравнение качества классификации до и после масштабирования вещественных признаков.\n",
        "1. Обучите ещё раз регрессию и гиперпараметры на новых признаках, объединив их с закодированными категориальными.\n",
        "2. Проверьте, был ли найден оптимум accuracy по гиперпараметрам во время кроссвалидации.\n",
        "3. Получите значение ROC AUC на тестовой выборке, сравните с лучшим результатом, полученными ранее.\n",
        "4. Запишите полученный ответ в файл при помощи функции write_answer_2."
      ],
      "attachments":{
        
      },
      "metadata":{
        
      }
    },
    {
      "cell_type":"code",
      "source":[
        "def write_answer_2(auc):\n",
        "    with open(\"preprocessing_lr_answer2.txt\", \"w\") as fout:\n",
        "        fout.write(str(auc))\n",
        "        \n",
        "# place your code here"
      ],
      "execution_count":42,
      "outputs":[
        
      ],
      "metadata":{
        
      }
    },
    {
      "cell_type":"markdown",
      "source":[
        "#### vibo: п.1 Задание 2 (все тоже самое + масштабирование вещественных признаков, т.к. у меня победил mean буду делать для него, т.е. и масштабирование нужно сделать заново, выше для zeros, в качестве примера)"
      ],
      "attachments":{
        
      },
      "metadata":{
        
      }
    },
    {
      "cell_type":"code",
      "source":[
        "#vibo: сделаем масштабирование для признаков real_mean (у них получилась лучшаю ROC AUC)\n",
        "from sklearn.preprocessing import StandardScaler\n",
        "\n",
        "#vibo: задаем объект масштабирования\n",
        "scaler_real_mean = StandardScaler()\n",
        "#vibo: обучаем объект масштабирования на train (вещественная составляющая)\n",
        "scaler_real_mean.fit(X_train_real_mean, y_train)\n",
        "\n",
        "#vibo: после того, как получено преобразование применяем его отдельно к обучающей и тестовой выборке\n",
        "X_train_real_mean_scaled = scaler_real_mean.transform(X_train_real_mean)\n",
        "X_test_real_mean_scaled = scaler_real_mean.transform(X_test_real_mean)\n",
        "\n",
        "#vibo: преобразуем np.array в DataFrame\n",
        "X_train_real_mean_scaled = pd.DataFrame(X_train_real_mean_scaled)\n",
        "X_test_real_mean_scaled = pd.DataFrame(X_test_real_mean_scaled)\n",
        "\n",
        "#vibo: при масштабировании индексы сбросились, верну обратно (иначе join не работал)\n",
        "X_train_real_mean_scaled.index = X_train_real_mean.index\n",
        "X_test_real_mean_scaled.index = X_test_real_mean.index\n",
        "#vibo: также при масштабировании сбросились названия столбцов (иначе join не работал)\n",
        "X_train_real_mean_scaled.columns = X_train_real_mean.columns\n",
        "X_test_real_mean_scaled.columns = X_test_real_mean.columns\n",
        "\n",
        "#vibo: объединяем обучающую выборку, признаки из real_mean_scaled и cat_oh\n",
        "X_train_real_mean_scaled_cat_oh = X_train_real_mean_scaled.join(X_train_cat_oh)"
      ],
      "execution_count":43,
      "outputs":[
        
      ],
      "metadata":{
        
      }
    },
    {
      "cell_type":"code",
      "source":[
        "#vibo: II. задаем алгоритм\n",
        "#vibo: по условию задания задаем параметр обучения solver='liblinear', penalty по умолчанию 'l2', поставил явно его\n",
        "estimator = LogisticRegression(solver='liblinear', penalty='l2')\n",
        "\n",
        "#vibo: III. генерируем сетку\n",
        "#estimator.get_params().keys()\n",
        "#vibo: из теории выше С - стандартный гиперпараметр, который позволяет модели подстраиваться под данные\n",
        "param_grid = {'C': [0.01, 0.05, 0.1, 0.5, 1, 5, 10]}\n",
        "\n",
        "#vibo: IV стратегия кросс-валидации (сейчас простая, на три фолда)\n",
        "cv = 3\n",
        "\n",
        "#vibo: V. готовим сетку\n",
        "optimizer = GridSearchCV(estimator, param_grid, cv=cv)\n",
        "#vibo: если вы не передаете конкретную метрику scoring, GridSearchCV будет использовать метод score по умолчанию для estimator\n",
        "#vibo: в моем случае estimator: LogisticRegression (точно не нашел, может accuracy?)\n",
        "\n",
        "#vibo: VI. обучаем готовую сетку для X_train_real_mean_scaled_cat_oh\n",
        "%time\n",
        "optimizer.fit(X_train_real_mean_scaled_cat_oh, y_train)\n"
      ],
      "execution_count":44,
      "outputs":[
        {
          "name":"stdout",
          "text":[
            "CPU times: user 3 µs, sys: 1e+03 ns, total: 4 µs\n",
            "Wall time: 9.06 µs\n"
          ],
          "output_type":"stream"
        },
        {
          "data":{
            "text\/plain":[
              "GridSearchCV(cv=3, estimator=LogisticRegression(solver='liblinear'),\n",
              "             param_grid={'C': [0.01, 0.05, 0.1, 0.5, 1, 5, 10]})"
            ]
          },
          "metadata":{
            
          },
          "output_type":"display_data"
        }
      ],
      "metadata":{
        
      }
    },
    {
      "cell_type":"code",
      "source":[
        "#vibo: VII. анализ результатов\n",
        "print('Лучший estimator: {}'. format(optimizer.best_estimator_))\n",
        "print('Лучшая оценка: {}'.format(optimizer.best_score_))\n",
        "print('Лучшие параметры: {}'.format(optimizer.best_params_))"
      ],
      "execution_count":45,
      "outputs":[
        {
          "name":"stdout",
          "text":[
            "Лучший estimator: LogisticRegression(C=0.1, solver='liblinear')\n",
            "Лучшая оценка: 0.7959523809523809\n",
            "Лучшие параметры: {'C': 0.1}\n"
          ],
          "output_type":"stream"
        }
      ],
      "metadata":{
        
      }
    },
    {
      "cell_type":"markdown",
      "source":[
        "#### vibo: п.2 Задания 2 (график accuracy в зависимости от С)"
      ],
      "attachments":{
        
      },
      "metadata":{
        
      }
    },
    {
      "cell_type":"code",
      "source":[
        "plot_scores(optimizer)"
      ],
      "execution_count":46,
      "outputs":[
        {
          "data":{
            "image\/png":"[encoded data removed]"
          },
          "metadata":{
            "image\/png":{
              
            }
          },
          "output_type":"display_data"
        }
      ],
      "metadata":{
        
      }
    },
    {
      "cell_type":"markdown",
      "source":[
        "#### vibo: п.3 Задания 2 (ROC AUC на тестовой выборке для отмасштабированных признаков с mean вместо NA)"
      ],
      "attachments":{
        
      },
      "metadata":{
        
      }
    },
    {
      "cell_type":"code",
      "source":[
        "#vibo: объединяем тестовую выборку, признаки из real_mean и cat_oh\n",
        "X_test_real_mean_scaled_cat_oh = X_test_real_mean_scaled.join(X_test_cat_oh)\n",
        "#vibo: предсказываем метки (вероятности 0 и 1) по тестовой выборке\n",
        "X_test_mean_predict = optimizer.predict_proba(X_test_real_mean_scaled_cat_oh)\n",
        "#vibo: выбираем метки вероятности 1 (второй столбец)\n",
        "X_test_mean_predict = X_test_mean_predict[:, 1]\n",
        "#vibo: считаем площадь под кривой, на вход - истинные значения и предсказание вероятности метки 1\n",
        "auc = roc_auc_score(y_test, X_test_mean_predict)\n",
        "auc"
      ],
      "execution_count":47,
      "outputs":[
        {
          "data":{
            "text\/plain":[
              "0.8879250288621806"
            ]
          },
          "metadata":{
            
          },
          "output_type":"display_data"
        }
      ],
      "metadata":{
        
      }
    },
    {
      "cell_type":"markdown",
      "source":[
        "#### vibo: п.4 Задания 2 Запись в файл"
      ],
      "attachments":{
        
      },
      "metadata":{
        
      }
    },
    {
      "cell_type":"code",
      "source":[
        "write_answer_2(auc)"
      ],
      "execution_count":48,
      "outputs":[
        
      ],
      "metadata":{
        
      }
    },
    {
      "cell_type":"markdown",
      "source":[
        "#### vibo: ИТОГО Задание 2. При масштабировании вещественных признаков значение ROC AUC незначительно улучшилось 0.8879 (было - 0.8878 для заполнения пропусков средними)"
      ],
      "attachments":{
        
      },
      "metadata":{
        
      }
    },
    {
      "cell_type":"markdown",
      "source":[
        "## Балансировка классов."
      ],
      "attachments":{
        
      },
      "metadata":{
        
      }
    },
    {
      "cell_type":"markdown",
      "source":[
        "Алгоритмы классификации могут быть очень чувствительны к несбалансированным классам. Рассмотрим пример с выборками, сэмплированными из двух гауссиан. Их мат. ожидания и матрицы ковариации заданы так, что истинная разделяющая поверхность должна проходить параллельно оси x. Поместим в обучающую выборку 20 объектов, сэмплированных из 1-й гауссианы, и 10 объектов из 2-й. После этого обучим на них линейную регрессию, и построим на графиках объекты и области классификации."
      ],
      "attachments":{
        
      },
      "metadata":{
        
      }
    },
    {
      "cell_type":"code",
      "source":[
        "np.random.seed(0)\n",
        "\"\"\"Сэмплируем данные из первой гауссианы\"\"\"\n",
        "data_0 = np.random.multivariate_normal([0,0], [[0.5,0],[0,0.5]], size=40)\n",
        "\"\"\"И из второй\"\"\"\n",
        "data_1 = np.random.multivariate_normal([0,1], [[0.5,0],[0,0.5]], size=40)\n",
        "\"\"\"На обучение берём 20 объектов из первого класса и 10 из второго\"\"\"\n",
        "example_data_train = np.vstack([data_0[:20,:], data_1[:10,:]])\n",
        "example_labels_train = np.concatenate([np.zeros((20)), np.ones((10))])\n",
        "\"\"\"На тест - 20 из первого и 30 из второго\"\"\"\n",
        "example_data_test = np.vstack([data_0[20:,:], data_1[10:,:]])\n",
        "example_labels_test = np.concatenate([np.zeros((20)), np.ones((30))])\n",
        "\"\"\"Задаём координатную сетку, на которой будем вычислять область классификации\"\"\"\n",
        "xx, yy = np.meshgrid(np.arange(-3, 3, 0.02), np.arange(-3, 3, 0.02))\n",
        "\"\"\"Обучаем регрессию без балансировки по классам\"\"\"\n",
        "optimizer = GridSearchCV(LogisticRegression(), param_grid, cv=cv, n_jobs=-1)\n",
        "optimizer.fit(example_data_train, example_labels_train)\n",
        "\"\"\"Строим предсказания регрессии для сетки\"\"\"\n",
        "Z = optimizer.predict(np.c_[xx.ravel(), yy.ravel()]).reshape(xx.shape)\n",
        "plt.pcolormesh(xx, yy, Z, cmap=plt.cm.Pastel2)\n",
        "plt.scatter(data_0[:,0], data_0[:,1], color='red')\n",
        "plt.scatter(data_1[:,0], data_1[:,1], color='blue')\n",
        "\"\"\"Считаем AUC\"\"\"\n",
        "auc_wo_class_weights = roc_auc_score(example_labels_test, optimizer.predict_proba(example_data_test)[:,1])\n",
        "plt.title('Without class weights')\n",
        "plt.show()\n",
        "print('AUC: %f'%auc_wo_class_weights)\n",
        "\"\"\"Для второй регрессии в LogisticRegression передаём параметр class_weight='balanced'\"\"\"\n",
        "optimizer = GridSearchCV(LogisticRegression(class_weight='balanced'), param_grid, cv=cv, n_jobs=-1)\n",
        "optimizer.fit(example_data_train, example_labels_train)\n",
        "Z = optimizer.predict(np.c_[xx.ravel(), yy.ravel()]).reshape(xx.shape)\n",
        "plt.pcolormesh(xx, yy, Z, cmap=plt.cm.Pastel2)\n",
        "plt.scatter(data_0[:,0], data_0[:,1], color='red')\n",
        "plt.scatter(data_1[:,0], data_1[:,1], color='blue')\n",
        "auc_w_class_weights = roc_auc_score(example_labels_test, optimizer.predict_proba(example_data_test)[:,1])\n",
        "plt.title('With class weights')\n",
        "plt.show()\n",
        "print('AUC: %f'%auc_w_class_weights)"
      ],
      "execution_count":49,
      "outputs":[
        {
          "name":"stdout",
          "text":[
            "AUC: 0.911667\n",
            "AUC: 0.906667\n"
          ],
          "output_type":"stream"
        },
        {
          "data":{
            "image\/png":"[encoded data removed]"
          },
          "metadata":{
            "image\/png":{
              
            }
          },
          "output_type":"display_data"
        }
      ],
      "metadata":{
        
      }
    },
    {
      "cell_type":"markdown",
      "source":[
        "Как видно, во втором случае классификатор находит разделяющую поверхность, которая ближе к истинной, т.е. меньше переобучается. Поэтому на сбалансированность классов в обучающей выборке всегда следует обращать внимание.\n",
        "\n",
        "Посмотрим, сбалансированны ли классы в нашей обучающей выборке:"
      ],
      "attachments":{
        
      },
      "metadata":{
        
      }
    },
    {
      "cell_type":"code",
      "source":[
        "print(np.sum(y_train==0))\n",
        "print(np.sum(y_train==1))"
      ],
      "execution_count":50,
      "outputs":[
        {
          "name":"stdout",
          "text":[
            "2316\n",
            "1884\n"
          ],
          "output_type":"stream"
        }
      ],
      "metadata":{
        
      }
    },
    {
      "cell_type":"markdown",
      "source":[
        "Видно, что нет.\n",
        "\n",
        "Исправить ситуацию можно разными способами, мы рассмотрим два:\n",
        "- давать объектам миноритарного класса больший вес при обучении классификатора (рассмотрен в примере выше)\n",
        "- досэмплировать объекты миноритарного класса, пока число объектов в обоих классах не сравняется"
      ],
      "attachments":{
        
      },
      "metadata":{
        
      }
    },
    {
      "cell_type":"markdown",
      "source":[
        "## Задание 3. Балансировка классов.\n",
        "1. Обучите логистическую регрессию и гиперпараметры с балансировкой классов, используя веса (параметр class_weight='balanced' регрессии) на отмасштабированных выборках, полученных в предыдущем задании. Убедитесь, что вы нашли максимум accuracy по гиперпараметрам.\n",
        "2. Получите метрику ROC AUC на тестовой выборке.\n",
        "3. Сбалансируйте выборку, досэмплировав в неё объекты из меньшего класса. Для получения индексов объектов, которые требуется добавить в обучающую выборку, используйте следующую комбинацию вызовов функций:\n",
        "        np.random.seed(0)\n",
        "        indices_to_add = np.random.randint(...)\n",
        "        X_train_to_add = X_train[y_train.as_matrix() == 1,:][indices_to_add,:]\n",
        "   После этого добавьте эти объекты в начало или конец обучающей выборки. Дополните соответствующим      образом вектор ответов.\n",
        "4. Получите метрику ROC AUC на тестовой выборке, сравните с предыдущим результатом.\n",
        "5. Внесите ответы в выходной файл при помощи функции write_asnwer_3, передав в неё сначала ROC AUC для балансировки весами, а потом балансировки выборки вручную."
      ],
      "attachments":{
        
      },
      "metadata":{
        
      }
    },
    {
      "cell_type":"markdown",
      "source":[
        "#### vibo: п.1 Задание 3. Обучаем модель с учетом сбалансированности классов - ВЕСАМИ"
      ],
      "attachments":{
        
      },
      "metadata":{
        
      }
    },
    {
      "cell_type":"code",
      "source":[
        "#vibo: II. задаем алгоритм\n",
        "#vibo: по условию задания задаем параметр обучения solver='liblinear', penalty по умолчанию 'l2', поставил явно его\n",
        "estimator = LogisticRegression(solver='liblinear', penalty='l2', class_weight='balanced')\n",
        "\n",
        "#vibo: III. генерируем сетку\n",
        "#estimator.get_params().keys()\n",
        "#vibo: из теории выше С - стандартный гиперпараметр, который позволяет модели подстраиваться под данные\n",
        "param_grid = {'C': [0.01, 0.05, 0.1, 0.5, 1, 5, 10]}\n",
        "\n",
        "#vibo: IV стратегия кросс-валидации (сейчас простая, на три фолда)\n",
        "cv = 3\n",
        "\n",
        "#vibo: V. готовим сетку\n",
        "optimizer = GridSearchCV(estimator, param_grid, cv=cv)\n",
        "#vibo: если вы не передаете конкретную метрику scoring, GridSearchCV будет использовать метод score по умолчанию для estimator\n",
        "#vibo: в моем случае estimator: LogisticRegression (точно не нашел, может accuracy?)\n",
        "\n",
        "#vibo: VI. обучаем готовую сетку для X_train_real_mean_scaled_cat_oh\n",
        "%time\n",
        "optimizer.fit(X_train_real_mean_scaled_cat_oh, y_train)"
      ],
      "execution_count":51,
      "outputs":[
        {
          "name":"stdout",
          "text":[
            "CPU times: user 3 µs, sys: 1 µs, total: 4 µs\n",
            "Wall time: 8.34 µs\n"
          ],
          "output_type":"stream"
        },
        {
          "data":{
            "text\/plain":[
              "GridSearchCV(cv=3,\n",
              "             estimator=LogisticRegression(class_weight='balanced',\n",
              "                                          solver='liblinear'),\n",
              "             param_grid={'C': [0.01, 0.05, 0.1, 0.5, 1, 5, 10]})"
            ]
          },
          "metadata":{
            
          },
          "output_type":"display_data"
        }
      ],
      "metadata":{
        
      }
    },
    {
      "cell_type":"code",
      "source":[
        "#vibo: VII. анализ результатов\n",
        "print('Лучший estimator: {}'. format(optimizer.best_estimator_))\n",
        "print('Лучшая оценка: {}'.format(optimizer.best_score_))\n",
        "print('Лучшие параметры: {}'.format(optimizer.best_params_))"
      ],
      "execution_count":52,
      "outputs":[
        {
          "name":"stdout",
          "text":[
            "Лучший estimator: LogisticRegression(C=0.1, class_weight='balanced', solver='liblinear')\n",
            "Лучшая оценка: 0.7878571428571428\n",
            "Лучшие параметры: {'C': 0.1}\n"
          ],
          "output_type":"stream"
        }
      ],
      "metadata":{
        
      }
    },
    {
      "cell_type":"code",
      "source":[
        "plot_scores(optimizer)"
      ],
      "execution_count":53,
      "outputs":[
        {
          "data":{
            "image\/png":"[encoded data removed]"
          },
          "metadata":{
            "image\/png":{
              
            }
          },
          "output_type":"display_data"
        }
      ],
      "metadata":{
        
      }
    },
    {
      "cell_type":"markdown",
      "source":[
        "#### vibo: п.2 Задания 3. Находим ROC AUC для с учетом сбалансированности классов - ВЕСАМИ"
      ],
      "attachments":{
        
      },
      "metadata":{
        
      }
    },
    {
      "cell_type":"code",
      "source":[
        "#vibo: предсказываем метки (вероятности 0 и 1) по тестовой выборке\n",
        "X_test_mean_predict = optimizer.predict_proba(X_test_real_mean_scaled_cat_oh)\n",
        "#vibo: выбираем метки вероятности 1 (второй столбец)\n",
        "X_test_mean_predict = X_test_mean_predict[:, 1]\n",
        "#vibo: считаем площадь под кривой, на вход - истинные значения и предсказание вероятности метки 1\n",
        "auc_1 = roc_auc_score(y_test, X_test_mean_predict)\n",
        "auc_1"
      ],
      "execution_count":54,
      "outputs":[
        {
          "data":{
            "text\/plain":[
              "0.8880302072261248"
            ]
          },
          "metadata":{
            
          },
          "output_type":"display_data"
        }
      ],
      "metadata":{
        
      }
    },
    {
      "cell_type":"markdown",
      "source":[
        "#### vibo: п.3 Задания 3. Балансировка выборки ВРУЧНУЮ"
      ],
      "attachments":{
        
      },
      "metadata":{
        
      }
    },
    {
      "cell_type":"code",
      "source":[
        "#vibo: определим каких объектов меньше в обучающей выборке\n",
        "print('1: {}, 0: {}, 1 < 0: {}'.format(np.sum(y_train==1), np.sum(y_train==0), np.sum(y_train==1) < np.sum(y_train==0))) "
      ],
      "execution_count":55,
      "outputs":[
        {
          "name":"stdout",
          "text":[
            "1: 1884, 0: 2316, 1 < 0: True\n"
          ],
          "output_type":"stream"
        }
      ],
      "metadata":{
        
      }
    },
    {
      "cell_type":"code",
      "source":[
        "#vibo: исходник кода, который предлагается для ручной балансировки выборки\n",
        "#np.random.seed(0)\n",
        "#indices_to_add = np.random.randint(...)\n",
        "#X_train_to_add = X_train[y_train.as_matrix() == 1, :][indices_to_add, :]"
      ],
      "execution_count":56,
      "outputs":[
        
      ],
      "metadata":{
        
      }
    },
    {
      "cell_type":"code",
      "source":[
        "np.random.seed(0)\n",
        "#vibo: генерируем случайные индексы для объектов с меткой 1\n",
        "#vibo: арамтры у randint min, max, size\n",
        "#vibo: min - нумерация начинается с 0\n",
        "#vibo: max - количество объектов в выборке с меткой 1 - np.sum(y_train==1)\n",
        "#vibo: size - сколько нужно добавить объектов с меткой 1, чтобы сравняться с объектами 0\n",
        "indices_to_add = np.random.randint(0, np.sum(y_train==1), (np.sum(y_train==0) - np.sum(y_train==1)))"
      ],
      "execution_count":57,
      "outputs":[
        
      ],
      "metadata":{
        
      }
    },
    {
      "cell_type":"code",
      "source":[
        "#vibo: объекты для добавления, as_matrix() - устарел, надо использовать to_numpy()\n",
        "#vibo: т.к. X_train_real_mean_scaled_cat_oh у нас dataframe тоже нужно перевести в numpy\n",
        "X_train_to_add = X_train_real_mean_scaled_cat_oh.to_numpy()[y_train.to_numpy() == 1, :][indices_to_add, :]\n",
        "\n",
        "#vibo: преобразуем numpy в dataframe\n",
        "X_train_to_add = pd.DataFrame(X_train_to_add)\n",
        "\n",
        "#vibo: сбросил индекс\n",
        "X_train_real_mean_scaled_cat_oh.index = np.arange(4200)\n",
        "y_train.index = np.arange(4200)\n",
        "\n",
        "#vibo: изменим индексы для X_train_to_add, чтобы добавить к X_train_real_mean_scaled_cat_oh\n",
        "X_train_to_add.index = np.arange(4200, 4200 + 432)\n",
        "\n",
        "#vibo: зададим название столбцов в X_train_to_add\n",
        "X_train_to_add.columns = X_train_real_mean_scaled_cat_oh.columns\n",
        "\n",
        "#vibo: добавляем дополнительные 432 объекта с меткой 1, метку еще нужно будет добавить в y_train\n",
        "X_train_real_mean_scaled_cat_oh_add432 = pd.concat([X_train_real_mean_scaled_cat_oh, X_train_to_add])\n",
        "\n",
        "#vibo: добавим 432 метки 1 в y_train\n",
        "y_train_to_add = pd.DataFrame([1]*432)\n",
        "y_train_to_add.index = np.arange(4200, 4200 + 432)\n",
        "\n",
        "y_train_add432 = pd.concat([y_train, y_train_to_add])"
      ],
      "execution_count":58,
      "outputs":[
        
      ],
      "metadata":{
        
      }
    },
    {
      "cell_type":"code",
      "source":[
        "#vibo: проверим сбалансированность классов\n",
        "print(np.sum(y_train_add432==0), np.sum(y_train_add432==1), np.sum(y_train==0))"
      ],
      "execution_count":59,
      "outputs":[
        {
          "name":"stdout",
          "text":[
            "0    2316\n",
            "dtype: int64 0    2316\n",
            "dtype: int64 2316\n"
          ],
          "output_type":"stream"
        }
      ],
      "metadata":{
        
      }
    },
    {
      "cell_type":"markdown",
      "source":[
        "#### vibo: п.4 Задание 3 Получаем ROC AUC на сбалансированных ВРУЧНУЮ КЛАССАХ"
      ],
      "attachments":{
        
      },
      "metadata":{
        
      }
    },
    {
      "cell_type":"code",
      "source":[
        "#vibo: VI. обучаем готовую сетку для X_train_real_mean_scaled_cat_oh_add432\n",
        "%time\n",
        "optimizer.fit(X_train_real_mean_scaled_cat_oh_add432, y_train_add432)"
      ],
      "execution_count":60,
      "outputs":[
        {
          "name":"stdout",
          "text":[
            "CPU times: user 3 µs, sys: 1 µs, total: 4 µs\n",
            "Wall time: 9.78 µs\n"
          ],
          "output_type":"stream"
        },
        {
          "data":{
            "text\/plain":[
              "GridSearchCV(cv=3,\n",
              "             estimator=LogisticRegression(class_weight='balanced',\n",
              "                                          solver='liblinear'),\n",
              "             param_grid={'C': [0.01, 0.05, 0.1, 0.5, 1, 5, 10]})"
            ]
          },
          "metadata":{
            
          },
          "output_type":"display_data"
        }
      ],
      "metadata":{
        
      }
    },
    {
      "cell_type":"code",
      "source":[
        "#vibo: предсказываем метки (вероятности 0 и 1) по тестовой выборке\n",
        "X_test_mean_predict = optimizer.predict_proba(X_test_real_mean_scaled_cat_oh)\n",
        "#vibo: выбираем метки вероятности 1 (второй столбец)\n",
        "X_test_mean_predict = X_test_mean_predict[:, 1]\n",
        "#vibo: считаем площадь под кривой, на вход - истинные значения и предсказание вероятности метки 1\n",
        "auc_2 = roc_auc_score(y_test, X_test_mean_predict)\n",
        "auc_2"
      ],
      "execution_count":61,
      "outputs":[
        {
          "data":{
            "text\/plain":[
              "0.8844355819642616"
            ]
          },
          "metadata":{
            
          },
          "output_type":"display_data"
        }
      ],
      "metadata":{
        
      }
    },
    {
      "cell_type":"markdown",
      "source":[
        "#### vibo: п.4 Задания 3 Запись в файл"
      ],
      "attachments":{
        
      },
      "metadata":{
        
      }
    },
    {
      "cell_type":"code",
      "source":[
        "def write_answer_3(auc_1, auc_2):\n",
        "    auc = (auc_1 + auc_2) \/ 2\n",
        "    with open(\"preprocessing_lr_answer3.txt\", \"w\") as fout:\n",
        "        fout.write(str(auc))\n",
        "        \n",
        "# place your code here\n",
        "write_answer_3(auc_1, auc_2)"
      ],
      "execution_count":62,
      "outputs":[
        
      ],
      "metadata":{
        
      }
    },
    {
      "cell_type":"markdown",
      "source":[
        "#### vibo: ИТОГО задание 3. AUC ROC со сбалансированными классами ВЕСАМИ = 0.8880, AUC ROC со сбалансированными классами ВРУЧНУЮ (делали простой OVERSAMPLING) получился хуже = 0.8844. При этом до балансировки ROC AUC составляло 0.8879."
      ],
      "attachments":{
        
      },
      "metadata":{
        
      }
    },
    {
      "cell_type":"markdown",
      "source":[
        "## Стратификация выборок."
      ],
      "attachments":{
        
      },
      "metadata":{
        
      }
    },
    {
      "cell_type":"markdown",
      "source":[
        "Рассмотрим ещё раз пример с выборками из нормальных распределений. Посмотрим ещё раз на качество классификаторов, получаемое на тестовых выборках:"
      ],
      "attachments":{
        
      },
      "metadata":{
        
      }
    },
    {
      "cell_type":"code",
      "source":[
        "print('AUC ROC for classifier without weighted classes', auc_wo_class_weights)\n",
        "print('AUC ROC for classifier with weighted classes: ', auc_w_class_weights)"
      ],
      "execution_count":63,
      "outputs":[
        {
          "name":"stdout",
          "text":[
            "AUC ROC for classifier without weighted classes 0.9116666666666666\n",
            "AUC ROC for classifier with weighted classes:  0.9066666666666666\n"
          ],
          "output_type":"stream"
        }
      ],
      "metadata":{
        
      }
    },
    {
      "cell_type":"markdown",
      "source":[
        "Насколько эти цифры реально отражают качество работы алгоритма, если учесть, что тестовая выборка так же несбалансирована, как обучающая? При этом мы уже знаем, что алгоритм логистический регрессии чувствителен к балансировке классов в обучающей выборке, т.е. в данном случае на тесте он будет давать заведомо заниженные результаты. Метрика классификатора на тесте имела бы гораздо больший смысл, если бы объекты были разделы в выборках поровну: по 20 из каждого класса на обучени и на тесте. Переформируем выборки и подсчитаем новые ошибки:"
      ],
      "attachments":{
        
      },
      "metadata":{
        
      }
    },
    {
      "cell_type":"code",
      "source":[
        "\"\"\"Разделим данные по классам поровну между обучающей и тестовой выборками\"\"\"\n",
        "example_data_train = np.vstack([data_0[:20,:], data_1[:20,:]])\n",
        "example_labels_train = np.concatenate([np.zeros((20)), np.ones((20))])\n",
        "example_data_test = np.vstack([data_0[20:,:], data_1[20:,:]])\n",
        "example_labels_test = np.concatenate([np.zeros((20)), np.ones((20))])\n",
        "\"\"\"Обучим классификатор\"\"\"\n",
        "optimizer = GridSearchCV(LogisticRegression(class_weight='balanced'), param_grid, cv=cv, n_jobs=-1)\n",
        "optimizer.fit(example_data_train, example_labels_train)\n",
        "Z = optimizer.predict(np.c_[xx.ravel(), yy.ravel()]).reshape(xx.shape)\n",
        "plt.pcolormesh(xx, yy, Z, cmap=plt.cm.Pastel2)\n",
        "plt.scatter(data_0[:,0], data_0[:,1], color='red')\n",
        "plt.scatter(data_1[:,0], data_1[:,1], color='blue')\n",
        "auc_stratified = roc_auc_score(example_labels_test, optimizer.predict_proba(example_data_test)[:,1])\n",
        "plt.title('With class weights')\n",
        "plt.show()\n",
        "print('AUC ROC for stratified samples: ', auc_stratified)"
      ],
      "execution_count":64,
      "outputs":[
        {
          "name":"stdout",
          "text":[
            "AUC ROC for stratified samples:  0.9125\n"
          ],
          "output_type":"stream"
        },
        {
          "data":{
            "image\/png":"[encoded data removed]"
          },
          "metadata":{
            "image\/png":{
              
            }
          },
          "output_type":"display_data"
        }
      ],
      "metadata":{
        
      }
    },
    {
      "cell_type":"markdown",
      "source":[
        "Как видно, после данной процедуры ответ классификатора изменился незначительно, а вот качество увеличилось. При этом, в зависимости от того, как вы разбили изначально данные на обучение и тест, после сбалансированного разделения выборок итоговая метрика на тесте может как увеличиться, так и уменьшиться, но доверять ей можно значительно больше, т.к. она построена с учётом специфики работы классификатора. Данный подход является частным случаем т.н. метода стратификации."
      ],
      "attachments":{
        
      },
      "metadata":{
        
      }
    },
    {
      "cell_type":"markdown",
      "source":[
        "## Задание 4. Стратификация выборки.\n",
        "\n",
        "1. По аналогии с тем, как это было сделано в начале задания, разбейте выборки X_real_zeros и X_cat_oh на обучение и тест, передавая в функцию \n",
        "        train_test_split(...)\n",
        "   дополнительно параметр \n",
        "       stratify=y\n",
        "   Также обязательно передайте в функцию переменную random_state=0.\n",
        "2. Выполните масштабирование новых вещественных выборок, обучите классификатор и его гиперпараметры при помощи метода кросс-валидации, делая поправку на несбалансированные классы при помощи весов. Убедитесь в том, что нашли оптимум accuracy по гиперпараметрам.\n",
        "3. Оцените качество классификатора метрике AUC ROC на тестовой выборке.\n",
        "4. Полученный ответ передайте функции write_answer_4"
      ],
      "attachments":{
        
      },
      "metadata":{
        
      }
    },
    {
      "cell_type":"markdown",
      "source":[
        "#### vibo: п.1 Задания 4. Разбиваем выборку с учетом стратификация выборки (сохранение балансировки классов в каждой подвыборке)"
      ],
      "attachments":{
        
      },
      "metadata":{
        
      }
    },
    {
      "cell_type":"code",
      "source":[
        "#vibo: ВАЖНО! после кодирования делим на train и test, фиксируем random_state\n",
        "from sklearn.model_selection import train_test_split\n",
        "\n",
        "(X_train_real_zeros, \n",
        " X_test_real_zeros, \n",
        " y_train, y_test) = train_test_split(X_real_zeros, y, \n",
        "                                     test_size=0.3, \n",
        "                                     random_state=0,\n",
        "                                     stratify=y)\n",
        "\n",
        "(X_train_cat_oh,\n",
        " X_test_cat_oh) = train_test_split(X_cat_oh, \n",
        "                                   test_size=0.3, \n",
        "                                   random_state=0,\n",
        "                                   stratify=y)"
      ],
      "execution_count":65,
      "outputs":[
        
      ],
      "metadata":{
        
      }
    },
    {
      "cell_type":"markdown",
      "source":[
        "#### vibo: п.2 Задания 4. С учетом нового разбиения масштабируем, обучаем с учетом кросс-валидации, делаем поправку на балансировку классов спомощью весов, проверяем accuracy"
      ],
      "attachments":{
        
      },
      "metadata":{
        
      }
    },
    {
      "cell_type":"code",
      "source":[
        "#vibo: делаем масштабирование новых вещественных признаков\n",
        "#vibo: задаем объект масштабирования\n",
        "scaler_real_zeros = StandardScaler()\n",
        "#vibo: обучаем объект масштабирования на train (вещественная составляющая)\n",
        "scaler_real_zeros.fit(X_train_real_zeros, y_train)\n",
        "\n",
        "#vibo: после того, как получено преобразование применяем его отдельно к обучающей и тестовой выборке\n",
        "X_train_real_zeros_scaled = scaler_real_zeros.transform(X_train_real_zeros)\n",
        "X_test_real_zeros_scaled = scaler_real_zeros.transform(X_test_real_zeros)\n",
        "\n",
        "#vibo: преобразуем np.array в DataFrame\n",
        "X_train_real_zeros_scaled = pd.DataFrame(X_train_real_zeros_scaled)\n",
        "X_test_real_zeros_scaled = pd.DataFrame(X_test_real_zeros_scaled)\n",
        "\n",
        "#vibo: при масштабировании индексы сбросились, верну обратно (иначе join не работал)\n",
        "X_train_real_zeros_scaled.index = X_train_real_zeros.index\n",
        "X_test_real_zeros_scaled.index = X_test_real_zeros.index\n",
        "#vibo: также при масштабировании сбросились названия столбцов (иначе join не работал)\n",
        "X_train_real_zeros_scaled.columns = X_train_real_zeros.columns\n",
        "X_test_real_zeros_scaled.columns = X_test_real_zeros.columns\n",
        "\n",
        "#vibo: объединяем обучающую выборку, признаки из real_mean_scaled и cat_oh\n",
        "X_train_real_zeros_scaled_cat_oh_new = X_train_real_zeros_scaled.join(X_train_cat_oh)\n",
        "#vibo: объединяем обучающую выборку, признаки из real_zeros_scaled и cat_oh\n",
        "X_test_real_zeros_scaled_cat_oh_new = X_test_real_zeros_scaled.join(X_test_cat_oh)"
      ],
      "execution_count":66,
      "outputs":[
        
      ],
      "metadata":{
        
      }
    },
    {
      "cell_type":"code",
      "source":[
        "#vibo: II. задаем алгоритм\n",
        "#vibo: по условию задания задаем параметр обучения solver='liblinear', penalty по умолчанию 'l2', поставил явно его\n",
        "estimator = LogisticRegression(solver='liblinear', penalty='l2', class_weight='balanced')\n",
        "\n",
        "#vibo: III. генерируем сетку\n",
        "#estimator.get_params().keys()\n",
        "#vibo: из теории выше С - стандартный гиперпараметр, который позволяет модели подстраиваться под данные\n",
        "param_grid = {'C': [0.01, 0.05, 0.1, 0.5, 1, 5, 10]}\n",
        "\n",
        "#vibo: IV стратегия кросс-валидации (сейчас простая, на три фолда)\n",
        "cv = 3\n",
        "\n",
        "#vibo: V. готовим сетку\n",
        "optimizer = GridSearchCV(estimator, param_grid, cv=cv)\n",
        "#vibo: если вы не передаете конкретную метрику scoring, GridSearchCV будет использовать метод score по умолчанию для estimator\n",
        "#vibo: в моем случае estimator: LogisticRegression (точно не нашел, может accuracy?)\n",
        "\n",
        "#vibo: VI. обучаем готовую сетку для X_train_real_mean_scaled_cat_oh\n",
        "%time\n",
        "optimizer.fit(X_train_real_zeros_scaled_cat_oh_new, y_train)"
      ],
      "execution_count":67,
      "outputs":[
        {
          "name":"stdout",
          "text":[
            "CPU times: user 4 µs, sys: 1 µs, total: 5 µs\n",
            "Wall time: 9.3 µs\n"
          ],
          "output_type":"stream"
        },
        {
          "data":{
            "text\/plain":[
              "GridSearchCV(cv=3,\n",
              "             estimator=LogisticRegression(class_weight='balanced',\n",
              "                                          solver='liblinear'),\n",
              "             param_grid={'C': [0.01, 0.05, 0.1, 0.5, 1, 5, 10]})"
            ]
          },
          "metadata":{
            
          },
          "output_type":"display_data"
        }
      ],
      "metadata":{
        
      }
    },
    {
      "cell_type":"code",
      "source":[
        "#vibo: VII. анализ результатов\n",
        "print('Лучший estimator: {}'. format(optimizer.best_estimator_))\n",
        "print('Лучшая оценка: {}'.format(optimizer.best_score_))\n",
        "print('Лучшие параметры: {}'.format(optimizer.best_params_))"
      ],
      "execution_count":68,
      "outputs":[
        {
          "name":"stdout",
          "text":[
            "Лучший estimator: LogisticRegression(C=0.1, class_weight='balanced', solver='liblinear')\n",
            "Лучшая оценка: 0.8016666666666667\n",
            "Лучшие параметры: {'C': 0.1}\n"
          ],
          "output_type":"stream"
        }
      ],
      "metadata":{
        
      }
    },
    {
      "cell_type":"code",
      "source":[
        "plot_scores(optimizer)"
      ],
      "execution_count":69,
      "outputs":[
        {
          "data":{
            "image\/png":"[encoded data removed]"
          },
          "metadata":{
            "image\/png":{
              
            }
          },
          "output_type":"display_data"
        }
      ],
      "metadata":{
        
      }
    },
    {
      "cell_type":"markdown",
      "source":[
        "#### vibo: п.3 Задания 4. Находим AUC ROC с учетом исходной стратификации при разбиении на train и test"
      ],
      "attachments":{
        
      },
      "metadata":{
        
      }
    },
    {
      "cell_type":"code",
      "source":[
        "#vibo: предсказываем метки (вероятности 0 и 1) по тестовой выборке\n",
        "X_test_mean_predict = optimizer.predict_proba(X_test_real_zeros_scaled_cat_oh_new)\n",
        "#vibo: выбираем метки вероятности 1 (второй столбец)\n",
        "X_test_mean_predict = X_test_mean_predict[:, 1]\n",
        "#vibo: считаем площадь под кривой, на вход - истинные значения и предсказание вероятности метки 1\n",
        "auc = roc_auc_score(y_test, X_test_mean_predict)\n",
        "auc"
      ],
      "execution_count":70,
      "outputs":[
        {
          "data":{
            "text\/plain":[
              "0.879348713049622"
            ]
          },
          "metadata":{
            
          },
          "output_type":"display_data"
        }
      ],
      "metadata":{
        
      }
    },
    {
      "cell_type":"markdown",
      "source":[
        "#### vibo: п.4 Задания 4. Запись ответа в файл"
      ],
      "attachments":{
        
      },
      "metadata":{
        
      }
    },
    {
      "cell_type":"code",
      "source":[
        "def write_answer_4(auc):\n",
        "    with open(\"preprocessing_lr_answer4.txt\", \"w\") as fout:\n",
        "        fout.write(str(auc))\n",
        "        \n",
        "# place your code here\n",
        "write_answer_4(auc)"
      ],
      "execution_count":71,
      "outputs":[
        
      ],
      "metadata":{
        
      }
    },
    {
      "cell_type":"markdown",
      "source":[
        "Теперь вы разобрались с основными этапами предобработки данных для линейных классификаторов.\n",
        "Напомним основные этапы:\n",
        "- обработка пропущенных значений\n",
        "- обработка категориальных признаков\n",
        "- стратификация\n",
        "- балансировка классов\n",
        "- масштабирование\n",
        "\n",
        "Данные действия с данными рекомендуется проводить всякий раз, когда вы планируете использовать линейные методы. Рекомендация по выполнению многих из этих пунктов справедлива и для других методов машинного обучения."
      ],
      "attachments":{
        
      },
      "metadata":{
        
      }
    },
    {
      "cell_type":"markdown",
      "source":[
        "#### vibo: ИТОГО Задание 4. Для вещественных данных, где пропуски заполнены 0 сделали разбиентие с учетом СТРАТИФИКАЦИИ на train и test. Далее выполнили масштабирование вещественных признаков, отдельно применив его к train и test выборке. Обучили линейный регрессорс с учетом параметра балансировки классов, обучили сетку по методу кросс-валидации. Получили AUC-ROC = 0.8793. Ранее в Задании 1. без стратификации auc_2_zeros = 0.8845 был лучше (ВАЖНО!!! Стратификация выборки может повлиять на получаемую метрику качества как в меньшую, так и в большую сторону, но делает её значение более корректным)."
      ],
      "attachments":{
        
      },
      "metadata":{
        
      }
    },
    {
      "cell_type":"markdown",
      "source":[
        "## Трансформация признаков.\n",
        "\n",
        "Теперь рассмотрим способы преобразования признаков. Существует достаточно много различных способов трансформации признаков, которые позволяют при помощи линейных методов получать более сложные разделяющие поверхности. Самым базовым является полиномиальное преобразование признаков. Его идея заключается в том, что помимо самих признаков вы дополнительно включаете набор все полиномы степени $p$, которые можно из них построить. Для случая $p=2$ преобразование выглядит следующим образом:\n",
        "\n",
        "$$ \\phi(x_i) = [x_{i,1}^2, ..., x_{i,D}^2, x_{i,1}x_{i,2}, ..., x_{i,D} x_{i,D-1}, x_{i,1}, ..., x_{i,D}, 1] $$\n",
        "\n",
        "Рассмотрим принцип работы данных признаков на данных, сэмплированных их гауссиан:"
      ],
      "attachments":{
        
      },
      "metadata":{
        
      }
    },
    {
      "cell_type":"code",
      "source":[
        "from sklearn.preprocessing import PolynomialFeatures\n",
        "\n",
        "\"\"\"Инициализируем класс, который выполняет преобразование\"\"\"\n",
        "transform = PolynomialFeatures(2)\n",
        "\"\"\"Обучаем преобразование на обучающей выборке, применяем его к тестовой\"\"\"\n",
        "example_data_train_poly = transform.fit_transform(example_data_train)\n",
        "example_data_test_poly = transform.transform(example_data_test)\n",
        "\"\"\"Обращаем внимание на параметр fit_intercept=False\"\"\"\n",
        "optimizer = GridSearchCV(LogisticRegression(class_weight='balanced', fit_intercept=False), param_grid, cv=cv, n_jobs=-1)\n",
        "optimizer.fit(example_data_train_poly, example_labels_train)\n",
        "Z = optimizer.predict(transform.transform(np.c_[xx.ravel(), yy.ravel()])).reshape(xx.shape)\n",
        "plt.pcolormesh(xx, yy, Z, cmap=plt.cm.Pastel2)\n",
        "plt.scatter(data_0[:,0], data_0[:,1], color='red')\n",
        "plt.scatter(data_1[:,0], data_1[:,1], color='blue')\n",
        "plt.title('With class weights')\n",
        "plt.show()"
      ],
      "execution_count":72,
      "outputs":[
        {
          "data":{
            "image\/png":"[encoded data removed]"
          },
          "metadata":{
            "image\/png":{
              
            }
          },
          "output_type":"display_data"
        }
      ],
      "metadata":{
        
      }
    },
    {
      "cell_type":"markdown",
      "source":[
        "Видно, что данный метод преобразования данных уже позволяет строить нелинейные разделяющие поверхности, которые могут более тонко подстраиваться под данные и находить более сложные зависимости. Число признаков в новой модели:"
      ],
      "attachments":{
        
      },
      "metadata":{
        
      }
    },
    {
      "cell_type":"code",
      "source":[
        "print(example_data_train_poly.shape)"
      ],
      "execution_count":73,
      "outputs":[
        {
          "name":"stdout",
          "text":[
            "(40, 6)\n"
          ],
          "output_type":"stream"
        }
      ],
      "metadata":{
        
      }
    },
    {
      "cell_type":"markdown",
      "source":[
        "Но при этом одновременно данный метод способствует более сильной способности модели к переобучению из-за быстрого роста числа признаком с увеличением степени $p$. Рассмотрим пример с $p=11$:"
      ],
      "attachments":{
        
      },
      "metadata":{
        
      }
    },
    {
      "cell_type":"code",
      "source":[
        "transform = PolynomialFeatures(11)\n",
        "example_data_train_poly = transform.fit_transform(example_data_train)\n",
        "example_data_test_poly = transform.transform(example_data_test)\n",
        "optimizer = GridSearchCV(LogisticRegression(class_weight='balanced', fit_intercept=False), param_grid, cv=cv, n_jobs=-1)\n",
        "optimizer.fit(example_data_train_poly, example_labels_train)\n",
        "Z = optimizer.predict(transform.transform(np.c_[xx.ravel(), yy.ravel()])).reshape(xx.shape)\n",
        "plt.pcolormesh(xx, yy, Z, cmap=plt.cm.Pastel2)\n",
        "plt.scatter(data_0[:,0], data_0[:,1], color='red')\n",
        "plt.scatter(data_1[:,0], data_1[:,1], color='blue')\n",
        "plt.title('Corrected class weights')\n",
        "plt.show()"
      ],
      "execution_count":74,
      "outputs":[
        {
          "data":{
            "image\/png":"[encoded data removed]"
          },
          "metadata":{
            "image\/png":{
              
            }
          },
          "output_type":"display_data"
        }
      ],
      "metadata":{
        
      }
    },
    {
      "cell_type":"markdown",
      "source":[
        "Количество признаков в данной модели:"
      ],
      "attachments":{
        
      },
      "metadata":{
        
      }
    },
    {
      "cell_type":"code",
      "source":[
        "print(example_data_train_poly.shape)"
      ],
      "execution_count":75,
      "outputs":[
        {
          "name":"stdout",
          "text":[
            "(40, 78)\n"
          ],
          "output_type":"stream"
        }
      ],
      "metadata":{
        
      }
    },
    {
      "cell_type":"markdown",
      "source":[
        "## Задание 5. Трансформация вещественных признаков.\n",
        "\n",
        "1. Реализуйте по аналогии с примером преобразование вещественных признаков модели при помощи полиномиальных признаков степени 2\n",
        "2. Постройте логистическую регрессию на новых данных, одновременно подобрав оптимальные гиперпараметры. Обращаем внимание, что в преобразованных признаках уже присутствует столбец, все значения которого равны 1, поэтому обучать дополнительно значение $b$ не нужно, его функцию выполняет один из весов $w$. В связи с этим во избежание линейной зависимости в датасете, в вызов класса логистической регрессии требуется передавать параметр fit_intercept=False. Для обучения используйте стратифицированные выборки с балансировкой классов при помощи весов, преобразованные признаки требуется заново отмасштабировать.\n",
        "3. Получите AUC ROC на тесте и сравните данный результат с использованием обычных признаков.\n",
        "4. Передайте полученный ответ в функцию write_answer_5."
      ],
      "attachments":{
        
      },
      "metadata":{
        
      }
    },
    {
      "cell_type":"markdown",
      "source":[
        "#### vibo: п.1 Задание 5. Преобразуем вещественные признаки при помощи полиномиальных признаков степени 2"
      ],
      "attachments":{
        
      },
      "metadata":{
        
      }
    },
    {
      "cell_type":"code",
      "source":[
        "#vibo: ВАЖНО! после кодирования (замена NA на средние) делим на train и test, фиксируем random_state\n",
        "#vibo: разбиение выполняем с учетом стратификации\n",
        "from sklearn.model_selection import train_test_split\n",
        "\n",
        "(X_train_real_mean, \n",
        " X_test_real_mean, \n",
        " y_train, y_test) = train_test_split(X_real_mean, y, \n",
        "                                     test_size=0.3, \n",
        "                                     random_state=0,\n",
        "                                     stratify=y)\n",
        "\n",
        "(X_train_cat_oh,\n",
        " X_test_cat_oh) = train_test_split(X_cat_oh, \n",
        "                                   test_size=0.3, \n",
        "                                   random_state=0,\n",
        "                                   stratify=y)"
      ],
      "execution_count":76,
      "outputs":[
        
      ],
      "metadata":{
        
      }
    },
    {
      "cell_type":"markdown",
      "source":[
        "#### #vibo: ВАЖНО! НАДО ЗАПОМНИТЬ, ВЫШЕ ДЕЛАЛ НЕ ТАК (ОБУЧЕНИЕ)"
      ],
      "attachments":{
        
      },
      "metadata":{
        
      }
    },
    {
      "cell_type":"code",
      "source":[
        "from sklearn.preprocessing import PolynomialFeatures\n",
        "\n",
        "\"\"\"Инициализируем класс, который выполняет преобразование\"\"\"\n",
        "#vibo: создаем объект для добавления полиномиальныъ признаков степени 2\n",
        "transform = PolynomialFeatures(2)\n",
        "\n",
        "\"\"\"Обучаем преобразование на обучающей выборке, применяем его к тестовой\"\"\"\n",
        "#vibo: ВАЖНО! НАДО ЗАПОМНИТЬ, ВЫШЕ ДЕЛАЛ НЕ ТАК\n",
        "X_train_real_mean_poly = transform.fit_transform(X_train_real_mean)\n",
        "X_test_real_mean_poly = transform.transform(X_test_real_mean)"
      ],
      "execution_count":77,
      "outputs":[
        
      ],
      "metadata":{
        
      }
    },
    {
      "cell_type":"code",
      "source":[
        "#vibo: было 13 вещественных признаков, стало 105 после добавления полимонимальн. степени 2\n",
        "X_train_real_mean_poly.shape"
      ],
      "execution_count":78,
      "outputs":[
        {
          "data":{
            "text\/plain":[
              "(4200, 105)"
            ]
          },
          "metadata":{
            
          },
          "output_type":"display_data"
        }
      ],
      "metadata":{
        
      }
    },
    {
      "cell_type":"markdown",
      "source":[
        "#### vibo: п.2 Задание 5. Строим логистическую регрессию на новых данных"
      ],
      "attachments":{
        
      },
      "metadata":{
        
      }
    },
    {
      "cell_type":"code",
      "source":[
        "#vibo: делаем масштабирование новых вещественных признаков\n",
        "#vibo: задаем объект масштабирования\n",
        "scaler_real_mean = StandardScaler()\n",
        "#vibo: обучаем объект масштабирования на train (вещественная составляющая)\n",
        "scaler_real_mean.fit(X_train_real_mean_poly, y_train)\n",
        "\n",
        "#vibo: после того, как получено преобразование применяем его отдельно к обучающей и тестовой выборке\n",
        "X_train_real_mean_scaled_poly = scaler_real_mean.transform(X_train_real_mean_poly)\n",
        "X_test_real_mean_scaled_poly = scaler_real_mean.transform(X_test_real_mean_poly)\n",
        "\n",
        "#vibo: преобразуем в df\n",
        "X_train_real_mean_scaled_poly = pd.DataFrame(X_train_real_mean_scaled_poly) \n",
        "X_test_real_mean_scaled_poly = pd.DataFrame(X_test_real_mean_scaled_poly)\n",
        "\n",
        "#vibo: заново пронумеруем X_train_cat_oh, X_test_cat_oh\n",
        "X_train_cat_oh.index = np.arange(4200)\n",
        "X_test_cat_oh.index = np.arange(1800)\n",
        "\n",
        "#vibo: объединяем обучающую выборку, признаки из real_mean_scaled_poly и cat_oh\n",
        "X_train_real_mean_scaled_cat_oh_poly = pd.concat([X_train_real_mean_scaled_poly, X_train_cat_oh], axis=1)\n",
        "#vibo: объединяем тестовую выборку, признаки из real_mean_scaled_poly и cat_oh\n",
        "X_test_real_mean_scaled_cat_oh_poly = pd.concat([X_test_real_mean_scaled_poly, X_test_cat_oh], axis=1)"
      ],
      "execution_count":79,
      "outputs":[
        
      ],
      "metadata":{
        
      }
    },
    {
      "cell_type":"code",
      "source":[
        "#vibo: II. задаем алгоритм\n",
        "#vibo: по условию задания задаем параметр обучения solver='liblinear', penalty по умолчанию 'l2', поставил явно его\n",
        "#vibo: добавили fit_intercept=False (во избежание линейной зависимости в датасете)\n",
        "estimator = LogisticRegression(solver='liblinear', penalty='l2', class_weight='balanced', fit_intercept=False)\n",
        "\n",
        "#vibo: III. генерируем сетку\n",
        "#estimator.get_params().keys()\n",
        "#vibo: из теории выше С - стандартный гиперпараметр, который позволяет модели подстраиваться под данные\n",
        "param_grid = {'C': [0.01, 0.05, 0.1, 0.5, 1, 5, 10]}\n",
        "\n",
        "#vibo: IV стратегия кросс-валидации (сейчас простая, на три фолда)\n",
        "cv = 3\n",
        "\n",
        "#vibo: V. готовим сетку\n",
        "optimizer = GridSearchCV(estimator, param_grid, cv=cv)\n",
        "#vibo: если вы не передаете конкретную метрику scoring, GridSearchCV будет использовать метод score по умолчанию для estimator\n",
        "#vibo: в моем случае estimator: LogisticRegression (точно не нашел, может accuracy?)\n",
        "\n",
        "#vibo: VI. обучаем готовую сетку для X_train_real_mean_scaled_cat_oh\n",
        "%time\n",
        "optimizer.fit(X_train_real_mean_scaled_cat_oh_poly, y_train)"
      ],
      "execution_count":80,
      "outputs":[
        {
          "name":"stdout",
          "text":[
            "CPU times: user 3 µs, sys: 1 µs, total: 4 µs\n",
            "Wall time: 8.11 µs\n"
          ],
          "output_type":"stream"
        },
        {
          "data":{
            "text\/plain":[
              "GridSearchCV(cv=3,\n",
              "             estimator=LogisticRegression(class_weight='balanced',\n",
              "                                          fit_intercept=False,\n",
              "                                          solver='liblinear'),\n",
              "             param_grid={'C': [0.01, 0.05, 0.1, 0.5, 1, 5, 10]})"
            ]
          },
          "metadata":{
            
          },
          "output_type":"display_data"
        }
      ],
      "metadata":{
        
      }
    },
    {
      "cell_type":"markdown",
      "source":[
        "#### vibo: п.3. Задание 5. Находим новый AUC ROC"
      ],
      "attachments":{
        
      },
      "metadata":{
        
      }
    },
    {
      "cell_type":"code",
      "source":[
        "#vibo: предсказываем метки (вероятности 0 и 1) по тестовой выборке\n",
        "X_test_mean_predict = optimizer.predict_proba(X_test_real_mean_scaled_cat_oh_poly)\n",
        "#vibo: выбираем метки вероятности 1 (второй столбец)\n",
        "X_test_mean_predict = X_test_mean_predict[:, 1]\n",
        "#vibo: считаем площадь под кривой, на вход - истинные значения и предсказание вероятности метки 1\n",
        "auc = roc_auc_score(y_test, X_test_mean_predict)\n",
        "auc"
      ],
      "execution_count":81,
      "outputs":[
        {
          "data":{
            "text\/plain":[
              "0.8856652933888616"
            ]
          },
          "metadata":{
            
          },
          "output_type":"display_data"
        }
      ],
      "metadata":{
        
      }
    },
    {
      "cell_type":"markdown",
      "source":[
        "#### vibo: п.4 Задание 5 Запись ответа в файл"
      ],
      "attachments":{
        
      },
      "metadata":{
        
      }
    },
    {
      "cell_type":"code",
      "source":[
        "def write_answer_5(auc):\n",
        "    with open(\"preprocessing_lr_answer5.txt\", \"w\") as fout:\n",
        "        fout.write(str(auc))\n",
        "        \n",
        "# place your code here\n",
        "write_answer_5(auc)"
      ],
      "execution_count":82,
      "outputs":[
        
      ],
      "metadata":{
        
      }
    },
    {
      "cell_type":"markdown",
      "source":[
        "#### vibo: ИТОГО Задание 5. Получили AUC-ROC = 0.8857 c добавлением полиномов втрой степени (ответ интерпретатора: Качество в данном случае действительно улучшается, что говорит о наличии более сложных зависимостях в данных, чем линейные). Не заметил, где оно улучшилось, в Задании 3 было 0.888 но там мы не делали стритификацию выборки (а это может привести как к уменьшению, так и увеличению, но результаты более корректные)."
      ],
      "attachments":{
        
      },
      "metadata":{
        
      }
    },
    {
      "cell_type":"markdown",
      "source":[
        "## Регрессия Lasso.\n",
        "К логистической регрессии также можно применить L1-регуляризацию (Lasso), вместо регуляризации L2, которая будет приводить к отбору признаков. Вам предлагается применить L1-регуляцию к исходным признакам и проинтерпретировать полученные результаты (применение отбора признаков к полиномиальным так же можно успешно применять, но в нём уже будет отсутствовать компонента интерпретации, т.к. смысловое значение оригинальных признаков известно, а полиномиальных - уже может быть достаточно нетривиально). Для вызова логистической регрессии с L1-регуляризацией достаточно передать параметр penalty='l1' в инициализацию класса."
      ],
      "attachments":{
        
      },
      "metadata":{
        
      }
    },
    {
      "cell_type":"markdown",
      "source":[
        "## Задание 6. Отбор признаков при помощи регрессии Lasso.\n",
        "1. Обучите регрессию Lasso на стратифицированных отмасштабированных выборках, используя балансировку классов при помощи весов. Для задания используем X_train_real_zeros.\n",
        "2. Получите ROC AUC регрессии, сравните его с предыдущими результатами.\n",
        "3. Найдите номера вещественных признаков, которые имеют нулевые веса в итоговой модели.\n",
        "4. Передайте их список функции write_answer_6."
      ],
      "attachments":{
        
      },
      "metadata":{
        
      }
    },
    {
      "cell_type":"code",
      "source":[
        "#vibo: ВАЖНО! после кодирования делим на train и test, фиксируем random_state\n",
        "#vibo: ДЕЛАЕМ СТРАТИФИКАЦИЮ (сохраняет соотношение классов) stratify=y\n",
        "from sklearn.model_selection import train_test_split\n",
        "\n",
        "(X_train_real_zeros, \n",
        " X_test_real_zeros, \n",
        " y_train, y_test) = train_test_split(X_real_zeros, y, \n",
        "                                     test_size=0.3, \n",
        "                                     random_state=0,\n",
        "                                     stratify=y)\n",
        "\n",
        "(X_train_cat_oh,\n",
        " X_test_cat_oh) = train_test_split(X_cat_oh, \n",
        "                                   test_size=0.3, \n",
        "                                   random_state=0,\n",
        "                                   stratify=y)"
      ],
      "execution_count":83,
      "outputs":[
        
      ],
      "metadata":{
        
      }
    },
    {
      "cell_type":"code",
      "source":[
        "#vibo: делаем масштабирование новых вещественных признаков\n",
        "#vibo: задаем объект масштабирования\n",
        "scaler_real_zeros_new = StandardScaler()\n",
        "#vibo: обучаем объект масштабирования на train (вещественная составляющая)\n",
        "scaler_real_zeros_new.fit(X_train_real_zeros, y_train)\n",
        "\n",
        "#vibo: после того, как получено преобразование применяем его отдельно к обучающей и тестовой выборке\n",
        "X_train_real_zeros_scaled_new = scaler_real_zeros_new.transform(X_train_real_zeros)\n",
        "X_test_real_zeros_scaled_new = scaler_real_zeros_new.transform(X_test_real_zeros)\n",
        "\n",
        "#vibo: преобразуем np.array в DataFrame\n",
        "X_train_real_zeros_scaled_new = pd.DataFrame(X_train_real_zeros_scaled_new)\n",
        "X_test_real_zeros_scaled_new = pd.DataFrame(X_test_real_zeros_scaled_new)\n",
        "\n",
        "#vibo: заново пронумеруем X_train_real_zeros_scaled, X_test_real_zeros_scaled\n",
        "X_train_real_zeros_scaled_new.index = np.arange(4200)\n",
        "X_test_real_zeros_scaled_new.index = np.arange(1800)\n",
        "\n",
        "X_train_cat_oh.index = np.arange(4200)\n",
        "X_test_cat_oh.index = np.arange(1800)\n",
        "\n",
        "#vibo: объединяем обучающую выборку, признаки из real_zeros_scaled и cat_oh\n",
        "X_train_real_zeros_scaled_cat_oh_new = pd.concat([X_train_real_zeros_scaled_new, X_train_cat_oh], axis=1)\n",
        "#vibo: объединяем тестовую выборку, признаки из real_zeros_scaled и cat_oh\n",
        "X_test_real_zeros_scaled_cat_oh_new = pd.concat([X_test_real_zeros_scaled_new, X_test_cat_oh], axis=1)"
      ],
      "execution_count":92,
      "outputs":[
        
      ],
      "metadata":{
        
      }
    },
    {
      "cell_type":"code",
      "source":[
        "#vibo: II. задаем алгоритм\n",
        "#vibo: по условию задания задаем параметр обучения solver='liblinear', penalty по умолчанию 'l2', поставил явно его\n",
        "estimator = LogisticRegression(solver='liblinear', penalty='l1', class_weight='balanced')\n",
        "\n",
        "#vibo: III. генерируем сетку\n",
        "#estimator.get_params().keys()\n",
        "#vibo: из теории выше С - стандартный гиперпараметр, который позволяет модели подстраиваться под данные\n",
        "param_grid = {'C': [0.01, 0.05, 0.1, 0.5, 1, 5, 10]}\n",
        "\n",
        "#vibo: IV стратегия кросс-валидации (сейчас простая, на три фолда)\n",
        "cv = 3\n",
        "\n",
        "#vibo: V. готовим сетку\n",
        "optimizer = GridSearchCV(estimator, param_grid, cv=cv)\n",
        "#vibo: если вы не передаете конкретную метрику scoring, GridSearchCV будет использовать метод score по умолчанию для estimator\n",
        "#vibo: в моем случае estimator: LogisticRegression (точно не нашел, может accuracy?)\n",
        "\n",
        "#vibo: VI. обучаем готовую сетку для X_train_real_mean_scaled_cat_oh\n",
        "%time\n",
        "optimizer.fit(X_train_real_zeros_scaled_cat_oh_new, y_train)"
      ],
      "execution_count":96,
      "outputs":[
        {
          "name":"stdout",
          "text":[
            "CPU times: user 5 µs, sys: 0 ns, total: 5 µs\n",
            "Wall time: 9.54 µs\n"
          ],
          "output_type":"stream"
        },
        {
          "data":{
            "text\/plain":[
              "GridSearchCV(cv=3,\n",
              "             estimator=LogisticRegression(class_weight='balanced', penalty='l1',\n",
              "                                          solver='liblinear'),\n",
              "             param_grid={'C': [0.01, 0.05, 0.1, 0.5, 1, 5, 10]})"
            ]
          },
          "metadata":{
            
          },
          "output_type":"display_data"
        }
      ],
      "metadata":{
        
      }
    },
    {
      "cell_type":"code",
      "source":[
        "#vibo: предсказываем метки (вероятности 0 и 1) по тестовой выборке\n",
        "X_test_mean_predict = optimizer.predict_proba(X_test_real_zeros_scaled_cat_oh_new)\n",
        "#vibo: выбираем метки вероятности 1 (второй столбец)\n",
        "X_test_mean_predict = X_test_mean_predict[:, 1]\n",
        "#vibo: считаем площадь под кривой, на вход - истинные значения и предсказание вероятности метки 1\n",
        "auc = roc_auc_score(y_test, X_test_mean_predict)\n",
        "auc"
      ],
      "execution_count":97,
      "outputs":[
        {
          "data":{
            "text\/plain":[
              "0.8765250349539007"
            ]
          },
          "metadata":{
            
          },
          "output_type":"display_data"
        }
      ],
      "metadata":{
        
      }
    },
    {
      "cell_type":"code",
      "source":[
        "print('Лучший estimator: {}'. format(optimizer.best_estimator_))\n",
        "print('Лучшая оценка: {}'.format(optimizer.best_score_))\n",
        "print('Лучшие параметры: {}'.format(optimizer.best_params_))"
      ],
      "execution_count":98,
      "outputs":[
        {
          "name":"stdout",
          "text":[
            "Лучший estimator: LogisticRegression(C=1, class_weight='balanced', penalty='l1',\n",
            "                   solver='liblinear')\n",
            "Лучшая оценка: 0.8076190476190476\n",
            "Лучшие параметры: {'C': 1}\n"
          ],
          "output_type":"stream"
        }
      ],
      "metadata":{
        
      }
    },
    {
      "cell_type":"code",
      "source":[
        "#vibo: вывод коэффициентов, т.к. была сетка то нужно указывать best_estimator_\n",
        "#vibo: всего было 13 вещественных признаков, поэтому [:13]\n",
        "#vibo: первый [0], чтобы избавиться от массива\n",
        "coef_weight = optimizer.best_estimator_.coef_[0][:13]\n",
        "index = []\n",
        "for i in range (13):\n",
        "    if coef_weight[i] == 0:\n",
        "        index.append(i)\n",
        "print('Коэффициенты перед вещественными признаками:')\n",
        "print(coef_weight)\n",
        "print('Индексы обнуленных весов (неинформативные, применение L1):')\n",
        "print(index)"
      ],
      "execution_count":150,
      "outputs":[
        {
          "name":"stdout",
          "text":[
            "Коэффициенты перед вещественными признаками:\n",
            "[ 0.0096605   0.03948593 -0.08991892 -0.06805952  0.         -0.00472565\n",
            "  0.          0.          0.02723538 -0.00718541  0.23282192  1.06513018\n",
            " -1.43374802]\n",
            "Индексы обнуленных весов (неинформативные, применение L1):\n",
            "[4, 6, 7]\n"
          ],
          "output_type":"stream"
        }
      ],
      "metadata":{
        
      }
    },
    {
      "cell_type":"code",
      "source":[
        "def write_answer_6(features):\n",
        "    with open(\"preprocessing_lr_answer6.txt\", \"w\") as fout:\n",
        "        fout.write(\" \".join([str(num) for num in features]))\n",
        "        \n",
        "# place your code here\n",
        "write_answer_6(index)"
      ],
      "execution_count":146,
      "outputs":[
        
      ],
      "metadata":{
        
      }
    },
    {
      "cell_type":"markdown",
      "source":[
        "#### vibo: ИТОГО Задание 5. Для линейной модели с L1 регуляризатором, при вещественных значениях NA заполненными нулями получили AUC-ROC = 0.8765. Ранее при обучении с L2 регуляризатором получали AUC-ROC = 0.8793 (Также нашли признаки, коэффициенты перед которыми обнулил L1 регуляризатор - Данные признаки имеют нулевой вес, а следовательно не вносят никакой вклад в работу модели, т.е. являются неинформативными.)"
      ],
      "attachments":{
        
      },
      "metadata":{
        
      }
    }
  ],
  "metadata":{
    
  },
  "nbformat":4,
  "nbformat_minor":0
}