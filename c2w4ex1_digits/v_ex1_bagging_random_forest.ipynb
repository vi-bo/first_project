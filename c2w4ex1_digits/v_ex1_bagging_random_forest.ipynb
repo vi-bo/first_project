{
  "cells":[
    {
      "cell_type":"markdown",
      "source":[
        "### Задание по программированию: Бэггинг и случайный лес"
      ],
      "attachments":{
        
      },
      "metadata":{
        
      }
    },
    {
      "cell_type":"code",
      "source":[
        "from sklearn import datasets, model_selection, tree\n",
        "\n",
        "#vibo: загружаем датасет load_digits\n",
        "digits = datasets.load_digits()\n",
        "\n",
        "#vibo: ключи датасета\n",
        "digits.keys()"
      ],
      "execution_count":1,
      "outputs":[
        {
          "data":{
            "text\/plain":[
              "dict_keys(['data', 'target', 'frame', 'feature_names', 'target_names', 'images', 'DESCR'])"
            ]
          },
          "metadata":{
            
          },
          "output_type":"display_data"
        }
      ],
      "metadata":{
        
      }
    },
    {
      "cell_type":"code",
      "source":[
        "#vibo: задаем признаки\n",
        "X = digits.data\n",
        "#vibo: задаем метки правильных ответов\n",
        "y = digits.target"
      ],
      "execution_count":2,
      "outputs":[
        
      ],
      "metadata":{
        
      }
    },
    {
      "cell_type":"markdown",
      "source":[
        "#### vibo: Задание 1. DecisionTreeClassifier (решеающее дерево)"
      ],
      "attachments":{
        
      },
      "metadata":{
        
      }
    },
    {
      "cell_type":"code",
      "source":[
        "#vibo: для построения модели используем DecisionTreeClassifier с параметрами по умолчанию\n",
        "estimator_1 = tree.DecisionTreeClassifier()\n",
        "#vibo: обучим дерево с помощью метода fit\n",
        "#estimator_1.fit(X, y)"
      ],
      "execution_count":3,
      "outputs":[
        
      ],
      "metadata":{
        
      }
    },
    {
      "cell_type":"code",
      "source":[
        "#vibo: для оценки качества используем cross_val_score из sklearn.model_selection с параметром cv=10\n",
        "#vibo: эта функция реализует k-fold kross validation с k равным значению параметра cv\n",
        "#vibo: в задании предлагаеся использовать k=10 (чтобы оценки качества имели небольшой разброс)\n",
        "#vibo: на практике часто хватает k=5\n",
        "\n",
        "from sklearn.model_selection import cross_val_score\n",
        "\n",
        "#vibo: cross_val_score возвращает значение на каждом фолде т.е. 10 в нашем случае, найдем среднее используя mean()\n",
        "cross_val_score_1 = cross_val_score(estimator_1, X, y, cv=10, n_jobs=1).mean()\n",
        "cross_val_score_1"
      ],
      "execution_count":4,
      "outputs":[
        {
          "data":{
            "text\/plain":[
              "0.8247020484171322"
            ]
          },
          "metadata":{
            
          },
          "output_type":"display_data"
        }
      ],
      "metadata":{
        
      }
    },
    {
      "cell_type":"code",
      "source":[
        "def write_answer_1(cross_val_score_n):\n",
        "    with open(\"ans1.txt\", \"w\") as fout:\n",
        "        fout.write(str(cross_val_score_n))\n",
        "\n",
        "write_answer_1(cross_val_score_1)"
      ],
      "execution_count":5,
      "outputs":[
        
      ],
      "metadata":{
        
      }
    },
    {
      "cell_type":"markdown",
      "source":[
        "#### vibo: ИТОГО Задание 1. для модели DecisionTreeClassifier cross_val_score = 0.82 (Качество работы одного решающего дерева обычно получается не очень высоким, но на этом датасете получилось неплохо. Обратите внимание - дерево вполне могло получиться сильно переобученным, ведь мы не ограничивали его глубину.)"
      ],
      "attachments":{
        
      },
      "metadata":{
        
      }
    },
    {
      "cell_type":"markdown",
      "source":[
        "#### vibo: Задание 2. BaggingClassifier (композиция решающих деревьев - бэггинг над решающими деревьями)"
      ],
      "attachments":{
        
      },
      "metadata":{
        
      }
    },
    {
      "cell_type":"code",
      "source":[
        "\n",
        "from sklearn.ensemble import BaggingClassifier\n",
        "\n",
        "#vibo: обучаем бэггинг над DecisionTreeClassifier, количество деревьев n_estimators = 100\n",
        "estimator_2 = BaggingClassifier(estimator_1, n_estimators = 100)\n",
        "\n",
        "cross_val_score_2 = cross_val_score(estimator_2, X, y, cv=10, n_jobs=1).mean()\n",
        "cross_val_score_2"
      ],
      "execution_count":6,
      "outputs":[
        {
          "data":{
            "text\/plain":[
              "0.9242799503414029"
            ]
          },
          "metadata":{
            
          },
          "output_type":"display_data"
        }
      ],
      "metadata":{
        
      }
    },
    {
      "cell_type":"code",
      "source":[
        "def write_answer_2(cross_val_score_n):\n",
        "    with open(\"ans2.txt\", \"w\") as fout:\n",
        "        fout.write(str(cross_val_score_n))\n",
        "\n",
        "write_answer_2(cross_val_score_2)"
      ],
      "execution_count":7,
      "outputs":[
        
      ],
      "metadata":{
        
      }
    },
    {
      "cell_type":"markdown",
      "source":[
        "#### vibo: ИТОГО Задание 2. Для BaggingClassifier cross_val_score = 0.92 (Деревья неустойчивы к изменениям в обучающей выборке, поэтому в результате усреднения по деревьям, построенным на немного разных выборках (как это происходит в бэггинге), получается более точный ответ.)"
      ],
      "attachments":{
        
      },
      "metadata":{
        
      }
    },
    {
      "cell_type":"markdown",
      "source":[
        "#### vibo: Задание 3. BaggingClassifier (параметры, максимальное количество признаков изменили на корень из d)"
      ],
      "attachments":{
        
      },
      "metadata":{
        
      }
    },
    {
      "cell_type":"code",
      "source":[
        "from sklearn.ensemble import BaggingClassifier\n",
        "from sklearn.model_selection import cross_val_score\n",
        "\n",
        "#vibo: сделаем так, чтобы классификатор обучался не на всех d-признаках, а на корень из d случайных признаков\n",
        "#vibo: признаки X.shape[1], первично сделал ошибку указав shape[0] - а это объекты, а не признаки\n",
        "sqr_d = int(X.shape[1]**0.5)\n",
        "print(sqr_d)\n",
        "#vibo: https:\/\/scikit-learn.org\/stable\/modules\/generated\/sklearn.ensemble.BaggingClassifier.html\n",
        "estimator_3 = BaggingClassifier(estimator_1, n_estimators = 100, max_features=sqr_d)\n",
        "\n",
        "cross_val_score_3 = cross_val_score(estimator_3, X, y, cv=10, n_jobs=1).mean()\n",
        "cross_val_score_3"
      ],
      "execution_count":58,
      "outputs":[
        {
          "name":"stdout",
          "text":[
            "8\n"
          ],
          "output_type":"stream"
        },
        {
          "data":{
            "text\/plain":[
              "0.9293358162631904"
            ]
          },
          "metadata":{
            
          },
          "output_type":"display_data"
        }
      ],
      "metadata":{
        
      }
    },
    {
      "cell_type":"code",
      "source":[
        "def write_answer_3(cross_val_score_n):\n",
        "    with open(\"ans3.txt\", \"w\") as fout:\n",
        "        fout.write(str(cross_val_score_n))\n",
        "\n",
        "write_answer_3(cross_val_score_3)"
      ],
      "execution_count":59,
      "outputs":[
        
      ],
      "metadata":{
        
      }
    },
    {
      "cell_type":"markdown",
      "source":[
        "#### vibo: ИТОГО Задание 3. cross_val_score вырос до 0.93 (С добавлением выбора случайных признаков деревья стали различаться еще больше, в результате композиция работает лучше.)"
      ],
      "attachments":{
        
      },
      "metadata":{
        
      }
    },
    {
      "cell_type":"markdown",
      "source":[
        "#### vibo: Задание 4. BaggingClassifier (выбираем случайные признаки не один раз на все дерево, как в задании 3, а при построении каждой вершины, это в точности соответсвует случайному лесу)"
      ],
      "attachments":{
        
      },
      "metadata":{
        
      }
    },
    {
      "cell_type":"code",
      "source":[
        "#vibo: в задании нужно выбрать случайные признаки не один раз на все дерево, а при построении каждой вершины\n",
        "\n",
        "#vibo: сделаем так, чтобы классификатор обучался не на всех d-признаках, а на корень из d случайных признаков\n",
        "sqr_d = int(X.shape[1]**0.5)\n",
        "print(sqr_d)\n",
        "\n",
        "#vibo: для построения модели используем DecisionTreeClassifier\n",
        "#vibo: добавляем выбор случайного подмножества признаков в DecisionTreeClassifier\n",
        "estimator_4_1 = tree.DecisionTreeClassifier(max_features=sqr_d)\n",
        "#vibo: убираем выбор случайного подмножества признаков в BaggingClassifier\n",
        "estimator_4_2 = BaggingClassifier(estimator_4_1, n_estimators = 100)\n",
        "\n",
        "cross_val_score_4 = cross_val_score(estimator_4_2, X, y, cv=10, n_jobs=1).mean()\n",
        "cross_val_score_4"
      ],
      "execution_count":64,
      "outputs":[
        {
          "name":"stdout",
          "text":[
            "8\n"
          ],
          "output_type":"stream"
        },
        {
          "data":{
            "text\/plain":[
              "0.94768156424581"
            ]
          },
          "metadata":{
            
          },
          "output_type":"display_data"
        }
      ],
      "metadata":{
        
      }
    },
    {
      "cell_type":"code",
      "source":[
        "def write_answer_4(cross_val_score_n):\n",
        "    with open(\"ans4.txt\", \"w\") as fout:\n",
        "        fout.write(str(cross_val_score_n))\n",
        "\n",
        "write_answer_4(cross_val_score_4)"
      ],
      "execution_count":63,
      "outputs":[
        
      ],
      "metadata":{
        
      }
    },
    {
      "cell_type":"markdown",
      "source":[
        "#### vibo: ИТОГО Задание 4. cross_val_score_4 вырос до 0.95 (Если выбирать случайные признаки в каждой вершине, отличия между деревьями становятся еще более существенными, что хорошо сказывается на качестве работы композиции. Именно так и устроен случайный лес.)"
      ],
      "attachments":{
        
      },
      "metadata":{
        
      }
    },
    {
      "cell_type":"markdown",
      "source":[
        "#### vibo: Задание 5."
      ],
      "attachments":{
        
      },
      "metadata":{
        
      }
    },
    {
      "cell_type":"code",
      "source":[
        "#vibo: сравним ответ в Задании 4. с RandomForestClassifire\n",
        "from sklearn import ensemble\n",
        "estimator_5 = ensemble.RandomForestClassifier()\n",
        "\n",
        "cross_val_score_5 = cross_val_score(estimator_5, X, y, cv=10, n_jobs=1).mean()\n",
        "cross_val_score_5"
      ],
      "execution_count":67,
      "outputs":[
        {
          "data":{
            "text\/plain":[
              "0.9510180012414648"
            ]
          },
          "metadata":{
            
          },
          "output_type":"display_data"
        }
      ],
      "metadata":{
        
      }
    },
    {
      "cell_type":"markdown",
      "source":[
        "##### vibo: 1) (НЕТ) Случайный лес сильно переобучается с ростом количества деревьев"
      ],
      "attachments":{
        
      },
      "metadata":{
        
      }
    },
    {
      "cell_type":"code",
      "source":[
        "\n",
        "estimator_5_1_10 = ensemble.RandomForestClassifier(n_estimators = 10)\n",
        "estimator_5_1_100 = ensemble.RandomForestClassifier(n_estimators = 100)\n",
        "\n",
        "cross_val_score_5_1_10 = cross_val_score(estimator_5_1_10, X, y, cv=10, n_jobs=1).mean()\n",
        "cross_val_score_5_1_100 = cross_val_score(estimator_5_1_100, X, y, cv=10, n_jobs=1).mean()\n",
        "\n",
        "print(cross_val_score_5_1_10, cross_val_score_5_1_100)"
      ],
      "execution_count":73,
      "outputs":[
        {
          "name":"stdout",
          "text":[
            "0.9170701427684668 0.9526939788950962\n"
          ],
          "output_type":"stream"
        }
      ],
      "metadata":{
        
      }
    },
    {
      "cell_type":"markdown",
      "source":[
        "##### vibo: 2) (ДА) При очень маленьком числе деревьев (5, 10, 15), случайный лес работает хуже, чем при большем числе деревьев"
      ],
      "attachments":{
        
      },
      "metadata":{
        
      }
    },
    {
      "cell_type":"code",
      "source":[
        "\n",
        "estimator_5_2_5 = ensemble.RandomForestClassifier(n_estimators = 5)\n",
        "estimator_5_2_10 = ensemble.RandomForestClassifier(n_estimators = 10)\n",
        "estimator_5_2_15 = ensemble.RandomForestClassifier(n_estimators = 15)\n",
        "\n",
        "cross_val_score_5_2_5 = cross_val_score(estimator_5_2_5, X, y, cv=10, n_jobs=1).mean()\n",
        "cross_val_score_5_2_10 = cross_val_score(estimator_5_2_10, X, y, cv=10, n_jobs=1).mean()\n",
        "cross_val_score_5_2_15 = cross_val_score(estimator_5_2_15, X, y, cv=10, n_jobs=1).mean()\n",
        "\n",
        "print(cross_val_score_5_2_5, cross_val_score_5_2_10, cross_val_score_5_2_15)"
      ],
      "execution_count":75,
      "outputs":[
        {
          "name":"stdout",
          "text":[
            "0.8831315952824333 0.9143202979515829 0.9320794537554316\n"
          ],
          "output_type":"stream"
        }
      ],
      "metadata":{
        
      }
    },
    {
      "cell_type":"markdown",
      "source":[
        "##### vibo: 3) (ДА) С ростом количества деревьев в случайном лесе, в какой-то момент деревьев становится достаточно для высокого качества классификации, а затем качество существенно не меняется."
      ],
      "attachments":{
        
      },
      "metadata":{
        
      }
    },
    {
      "cell_type":"code",
      "source":[
        "estimator_5_3_50 = ensemble.RandomForestClassifier(n_estimators = 50)\n",
        "estimator_5_3_100 = ensemble.RandomForestClassifier(n_estimators = 100)\n",
        "estimator_5_3_200 = ensemble.RandomForestClassifier(n_estimators = 200)\n",
        "estimator_5_3_500 = ensemble.RandomForestClassifier(n_estimators = 500)\n",
        "\n",
        "cross_val_score_5_3_50 = cross_val_score(estimator_5_3_50, X, y, cv=10, n_jobs=1).mean()\n",
        "cross_val_score_5_3_100 = cross_val_score(estimator_5_3_100, X, y, cv=10, n_jobs=1).mean()\n",
        "cross_val_score_5_3_200 = cross_val_score(estimator_5_3_200, X, y, cv=10, n_jobs=1).mean()\n",
        "cross_val_score_5_3_500 = cross_val_score(estimator_5_3_500, X, y, cv=10, n_jobs=1).mean()\n",
        "\n",
        "print(cross_val_score_5_3_50, cross_val_score_5_3_100, cross_val_score_5_3_200, cross_val_score_5_3_500)"
      ],
      "execution_count":77,
      "outputs":[
        {
          "name":"stdout",
          "text":[
            "0.9443575418994413 0.948792675356921 0.9532371198013655 0.9476784605834885\n"
          ],
          "output_type":"stream"
        }
      ],
      "metadata":{
        
      }
    },
    {
      "cell_type":"markdown",
      "source":[
        "##### vibo: (ДА) 4) При большом количестве признаков (для данного датасета - 40, 50) качество классификации становится хуже, чем при малом количестве признаков (5, 10). Это связано с тем, что чем меньше признаков выбирается в каждом узле, тем более различными получаются деревья (ведь деревья сильно неустойчивы к изменениям в обучающей выборке), и тем лучше работает их композиция."
      ],
      "attachments":{
        
      },
      "metadata":{
        
      }
    },
    {
      "cell_type":"markdown",
      "source":[
        "##### vibo: (НЕТ) 5) При большом количестве признаков (40, 50, 60) качество классификации лучше, чем при малом количестве признаков (5, 10). Это связано с тем, что чем больше признаков - тем больше информации об объектах, а значит алгоритм может делать прогнозы более точно."
      ],
      "attachments":{
        
      },
      "metadata":{
        
      }
    },
    {
      "cell_type":"markdown",
      "source":[
        "##### vibo: (НЕТ) 6) При небольшой максимальной глубине деревьев (5-6) качество работы случайного леса намного лучше, чем без ограничения глубины, т.к. деревья получаются не переобученными. С ростом глубины деревьев качество ухудшается."
      ],
      "attachments":{
        
      },
      "metadata":{
        
      }
    },
    {
      "cell_type":"markdown",
      "source":[
        "##### vibo: (ДА) 7) При небольшой максимальной глубине деревьев (5-6) качество работы случайного леса заметно хуже, чем без ограничений, т.к. деревья получаются недообученными. С ростом глубины качество сначала улучшается, а затем не меняется существенно, т.к. из-за усреднения прогнозов и различий деревьев их переобученность в бэггинге не сказывается на итоговом качестве (все деревья преобучены по-разному, и при усреднении они компенсируют переобученность друг-друга)."
      ],
      "attachments":{
        
      },
      "metadata":{
        
      }
    }
  ],
  "metadata":{
    
  },
  "nbformat":4,
  "nbformat_minor":0
}