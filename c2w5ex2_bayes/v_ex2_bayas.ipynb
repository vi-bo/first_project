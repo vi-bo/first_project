{
  "cells":[
    {
      "cell_type":"markdown",
      "source":[
        "### Задание по программированию: Выбор семейства распределений в наивном байесе"
      ],
      "attachments":{
        
      },
      "metadata":{
        
      }
    },
    {
      "cell_type":"markdown",
      "source":[
        "В этом задании вы сможете немного расслабиться после реализации случайного леса и градиентного бустинга по мотивам материалов прошлой недели. Все, что нужно будет делать — запускать методы из sklearn. Вам предлагается выяснить, какое распределение лучше использовать в наивном байесовском классификаторе в зависимости от вида признаков.\n",
        "\n",
        "Загрузите датасеты digits и breast_cancer из sklearn.datasets. Выведите несколько строчек из обучающих выборок и посмотрите на признаки. С помощью sklearn.cross_validation.cross_val_score c настройками по умолчанию и вызова метода mean() у возвращаемого этой функцией numpy.ndarray, сравните качество работы наивных байесовских классификаторов на этих двух датасетах. Для сравнения предлагается использовать BernoulliNB, MultinomialNB и GaussianNB. Насколько полученные результаты согласуются с рекомендациями из лекций?\n",
        "\n",
        "Два датасета, конечно, еще не повод делать далеко идущие выводы, но при желании вы можете продолжить исследование на других выборках (например, из UCI репозитория). \n",
        "\n",
        "Для сдачи задания, ответьте на приведенные ниже вопросы."
      ],
      "attachments":{
        
      },
      "metadata":{
        
      }
    },
    {
      "cell_type":"code",
      "source":[
        "from sklearn import datasets, model_selection, naive_bayes"
      ],
      "execution_count":34,
      "outputs":[
        
      ],
      "metadata":{
        
      }
    },
    {
      "cell_type":"code",
      "source":[
        "digits = datasets.load_digits()\n",
        "breast_cancer = datasets.load_breast_cancer()"
      ],
      "execution_count":35,
      "outputs":[
        
      ],
      "metadata":{
        
      }
    },
    {
      "cell_type":"code",
      "source":[
        "digits.keys()"
      ],
      "execution_count":36,
      "outputs":[
        {
          "data":{
            "text\/plain":[
              "dict_keys(['data', 'target', 'frame', 'feature_names', 'target_names', 'images', 'DESCR'])"
            ]
          },
          "metadata":{
            
          },
          "output_type":"display_data"
        }
      ],
      "metadata":{
        
      }
    },
    {
      "cell_type":"code",
      "source":[
        "breast_cancer.keys()"
      ],
      "execution_count":37,
      "outputs":[
        {
          "data":{
            "text\/plain":[
              "dict_keys(['data', 'target', 'frame', 'target_names', 'DESCR', 'feature_names', 'filename'])"
            ]
          },
          "metadata":{
            
          },
          "output_type":"display_data"
        }
      ],
      "metadata":{
        
      }
    },
    {
      "cell_type":"code",
      "source":[
        "X_digits = digits.data\n",
        "y_digits = digits.target\n",
        "\n",
        "X_breast_cancer = breast_cancer.data\n",
        "y_breast_cancer = breast_cancer.target"
      ],
      "execution_count":38,
      "outputs":[
        
      ],
      "metadata":{
        
      }
    },
    {
      "cell_type":"code",
      "source":[
        "X_digits"
      ],
      "execution_count":39,
      "outputs":[
        {
          "data":{
            "text\/html":[
              
            ]
          },
          "metadata":{
            
          },
          "output_type":"display_data"
        }
      ],
      "metadata":{
        
      }
    },
    {
      "cell_type":"code",
      "source":[
        "X_breast_cancer"
      ],
      "execution_count":40,
      "outputs":[
        {
          "data":{
            "text\/html":[
              
            ]
          },
          "metadata":{
            
          },
          "output_type":"display_data"
        }
      ],
      "metadata":{
        
      }
    },
    {
      "cell_type":"code",
      "source":[
        "\n",
        "estimator_BernoulliNB = naive_bayes.BernoulliNB()\n",
        "estimator_MultinomialNB = naive_bayes.MultinomialNB()\n",
        "estimator_GaussianNB = naive_bayes.GaussianNB()"
      ],
      "execution_count":42,
      "outputs":[
        
      ],
      "metadata":{
        
      }
    },
    {
      "cell_type":"code",
      "source":[
        "scoring_digits_BernoulliNB = model_selection.cross_val_score(estimator_BernoulliNB, X_digits, y_digits)\n",
        "scoring_digits_BernoulliNB = scoring_digits_BernoulliNB.mean(0)\n",
        "\n",
        "scoring_digits_MultinomialNB = model_selection.cross_val_score(estimator_MultinomialNB, X_digits, y_digits)\n",
        "scoring_digits_MultinomialNB = scoring_digits_MultinomialNB.mean(0)\n",
        "\n",
        "scoring_digits_GaussianNB = model_selection.cross_val_score(estimator_GaussianNB, X_digits, y_digits)\n",
        "scoring_digits_GaussianNB = scoring_digits_GaussianNB.mean(0)\n",
        "\n",
        "print('scoring_digits_BernoulliNB = ', scoring_digits_BernoulliNB)\n",
        "print('scoring_digits_MultinomialNB = ', scoring_digits_MultinomialNB)\n",
        "print('scoring_digits_GaussianNB = ', scoring_digits_GaussianNB)"
      ],
      "execution_count":44,
      "outputs":[
        {
          "name":"stdout",
          "text":[
            "scoring_digits_BernoulliNB =  0.8241736304549674\n",
            "scoring_digits_MultinomialNB =  0.8703497369235531\n",
            "scoring_digits_GaussianNB =  0.8069281956050759\n"
          ],
          "output_type":"stream"
        }
      ],
      "metadata":{
        
      }
    },
    {
      "cell_type":"code",
      "source":[
        "scoring_breast_cancer_BernoulliNB = model_selection.cross_val_score(estimator_BernoulliNB, X_breast_cancer, y_breast_cancer)\n",
        "scoring_breast_cancer_BernoulliNB = scoring_breast_cancer_BernoulliNB.mean(0)\n",
        "\n",
        "scoring_breast_cancer_MultinomialNB = model_selection.cross_val_score(estimator_MultinomialNB, X_breast_cancer, y_breast_cancer)\n",
        "scoring_breast_cancer_MultinomialNB = scoring_breast_cancer_MultinomialNB.mean(0)\n",
        "\n",
        "scoring_breast_cancer_GaussianNB = model_selection.cross_val_score(estimator_GaussianNB, X_breast_cancer, y_breast_cancer)\n",
        "scoring_breast_cancer_GaussianNB = scoring_breast_cancer_GaussianNB.mean(0)\n",
        "\n",
        "print('scoring_breast_cancer_BernoulliNB = ', scoring_breast_cancer_BernoulliNB)\n",
        "print('scoring_breast_cancer_MultinomialNB = ', scoring_breast_cancer_MultinomialNB)\n",
        "print('scoring_breast_cancer_GaussianNB = ', scoring_breast_cancer_GaussianNB)"
      ],
      "execution_count":51,
      "outputs":[
        {
          "name":"stdout",
          "text":[
            "scoring_breast_cancer_BernoulliNB =  0.6274181027790716\n",
            "scoring_breast_cancer_MultinomialNB =  0.8963204471355379\n",
            "scoring_breast_cancer_GaussianNB =  0.9385188635305075\n"
          ],
          "output_type":"stream"
        }
      ],
      "metadata":{
        
      }
    },
    {
      "cell_type":"markdown",
      "source":[
        "#### Вопрос 1\n",
        "\n",
        "Каким получилось максимальное качество классификации на датасете breast_cancer?"
      ],
      "attachments":{
        
      },
      "metadata":{
        
      }
    },
    {
      "cell_type":"code",
      "source":[
        "def write_answer(answer, filename):\n",
        "    with open(filename, 'w') as fout:\n",
        "        fout.write(str(answer))\n",
        "\n",
        "write_answer(scoring_breast_cancer_GaussianNB, \"ans1.txt\")"
      ],
      "execution_count":53,
      "outputs":[
        
      ],
      "metadata":{
        
      }
    },
    {
      "cell_type":"markdown",
      "source":[
        "#### vibo: ответ на задание 1. scoring_breast_cancer_GaussianNB =  0.9385 (ответа анализатора: Верно. В датасете breast_cancer признаки вещественные, и лучшее качество получилось у GaussianNB)"
      ],
      "attachments":{
        
      },
      "metadata":{
        
      }
    },
    {
      "cell_type":"markdown",
      "source":[
        "#### Вопрос 2\n",
        "\n",
        "Каким получилось максимальное качество классификации на датасете digits?"
      ],
      "attachments":{
        
      },
      "metadata":{
        
      }
    },
    {
      "cell_type":"code",
      "source":[
        "write_answer(scoring_digits_MultinomialNB, \"ans2.txt\")"
      ],
      "execution_count":55,
      "outputs":[
        
      ],
      "metadata":{
        
      }
    },
    {
      "cell_type":"markdown",
      "source":[
        "#### vibo: ответ на задание 2. scoring_digits_MultinomialNB =  0.8703 (ответа анализатора: Верно. В датасете digits признаки - целые неотрицательные числа, поэтому MultinomialNB отработал лучше других вариантов.)"
      ],
      "attachments":{
        
      },
      "metadata":{
        
      }
    },
    {
      "cell_type":"markdown",
      "source":[
        "#### Вопрос 3\n",
        "\n",
        "Выберите верные утверждения и запишите их номера через пробел (в порядке возрастания номера):\n",
        "\n",
        "1) На вещественных признаках лучше всего сработал наивный байесовский классификатор с распределением Бернулли\n",
        "\n",
        "2) На вещественных признаках лучше всего сработал наивный байесовский классификатор с мультиномиальным распределением\n",
        "\n",
        "3) Мультиномиальное распределение лучше показало себя на выборке с целыми неотрицательными значениями признаков\n",
        "\n",
        "4) На вещественных признаках лучше всего сработало нормальное распределение"
      ],
      "attachments":{
        
      },
      "metadata":{
        
      }
    },
    {
      "cell_type":"code",
      "source":[
        "write_answer('3 4', \"ans3.txt\")"
      ],
      "execution_count":56,
      "outputs":[
        
      ],
      "metadata":{
        
      }
    },
    {
      "cell_type":"markdown",
      "source":[
        "#### vibo: ответ на задание 3. 3 и 4 верно (ответ анализатора: Мультиномиальное распределение уместней на целых неотрицательных признаках, а гауссовское - на вещественных)"
      ],
      "attachments":{
        
      },
      "metadata":{
        
      }
    }
  ],
  "metadata":{
    
  },
  "nbformat":4,
  "nbformat_minor":0
}